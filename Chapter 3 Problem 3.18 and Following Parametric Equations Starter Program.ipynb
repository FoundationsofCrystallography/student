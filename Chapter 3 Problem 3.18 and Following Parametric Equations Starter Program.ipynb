{
 "cells": [
  {
   "cell_type": "markdown",
   "metadata": {},
   "source": [
    "## Chapter 3 Problem 3.18 and Following: Starter Program\n",
    "### Parametric Equations \n",
    "\n",
    "#### From: M. Julian, [*Foundations of Crystallography with Computer Applications Third Edition*](https://www.crcpress.com/Foundations-of-Crystallography-with-Computer-Applications/Julian/p/book/9781466552913). CRC Press, Taylor & Francis, Boca Raton\n",
    "\n",
    "#### References\n",
    " - See *Chapter 1 Problem 1.09 Starter Program* for installation of Python, Jupyter, Numpy, and Matplotlib\n",
    " - See Khan Academy for discussion of parametric equations\n"
   ]
  },
  {
   "cell_type": "code",
   "execution_count": null,
   "metadata": {},
   "outputs": [],
   "source": [
    "import matplotlib.pyplot as plt\n",
    "import numpy as np\n",
    "\n",
    "x = np.arange(0, 10, 0.2)\n",
    "y = np.sin(x)\n",
    "\n",
    "fig, ax = plt.subplots()\n",
    "\n",
    "ax.plot(x, y)\n",
    "plt.show()"
   ]
  }
 ],
 "metadata": {
  "kernelspec": {
   "display_name": "Python 3 (ipykernel)",
   "language": "python",
   "name": "python3"
  },
  "language_info": {
   "codemirror_mode": {
    "name": "ipython",
    "version": 3
   },
   "file_extension": ".py",
   "mimetype": "text/x-python",
   "name": "python",
   "nbconvert_exporter": "python",
   "pygments_lexer": "ipython3",
   "version": "3.9.12"
  }
 },
 "nbformat": 4,
 "nbformat_minor": 2
}
