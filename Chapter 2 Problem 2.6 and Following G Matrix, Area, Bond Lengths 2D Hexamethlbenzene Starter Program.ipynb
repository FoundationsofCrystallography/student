{
 "cells": [
  {
   "cell_type": "markdown",
   "metadata": {},
   "source": [
    "## Chapter 2 Problem 2.6 and Following: Starter Program\n",
    "### G matrix, area and bonds 2D \n",
    "\n",
    "#### From: M. Julian, [*Foundations of Crystallography with Computer Applications Third Edition*](https://www.crcpress.com/Foundations-of-Crystallography-with-Computer-Applications/Julian/p/book/9781466552913). CRC Press, Taylor & Francis, Boca Raton\n",
    "\n",
    "#### References\n",
    " - See *Chapter 1 Problem 1.09 Starter Program* for installation of Python, Jupyter, Numpy, and Matplotlib"
   ]
  },
  {
   "cell_type": "code",
   "execution_count": 1,
   "metadata": {},
   "outputs": [],
   "source": [
    "import numpy as np \n",
    "import matplotlib.pyplot as plt \n",
    "from numpy import matrix\n",
    "from mpl_toolkits.mplot3d import axis3d\n",
    "np.set_printoptions(precision=4, suppress=True) # suppress means numbers close to zero printed as zero "
   ]
  },
  {
   "cell_type": "code",
   "execution_count": 2,
   "metadata": {},
   "outputs": [],
   "source": [
    "a = 9.010              # Crystallographic a axis (Å, angstroms)\n",
    "b = 8.926              # Crystallographic b axis (Å, angstroms)\n",
    "c = 5.344              # Crystallographic c axis (Å, angstroms)\n",
    "alpha = 44 + 27/60     # Angle between b and c  (degrees)\n",
    "beta  = 116 + 43/60    # Angle between a and c  (degrees)\n",
    "gamma = 119 + 34/60    # Angle between a and b  (degrees)"
   ]
  },
  {
   "cell_type": "code",
   "execution_count": 3,
   "metadata": {},
   "outputs": [],
   "source": [
    "def sind(angle_degrees):\n",
    "    \"\"\"sine in degrees\"\"\"  #python \"\"\" string to document functions\n",
    "    angle_radians = np.deg2rad(angle_degrees)\n",
    "    return np.sin(angle_radians)\n",
    "\n",
    "def cosd(angle_degrees):\n",
    "    \"\"\"cosine in degrees\"\"\"\n",
    "    angle_radians = np.deg2rad(angle_degrees)\n",
    "    return np.cos(angle_radians)\n"
   ]
  },
  {
   "cell_type": "code",
   "execution_count": null,
   "metadata": {},
   "outputs": [],
   "source": [
    "# Student: Change to 3D and put in units\n",
    "G_matrix = np.array([\n",
    "[a*a,             a*b*cosd(gamma)],\n",
    "[a*b*cosd(gamma), b*b],\n",
    " ])\n",
    "    \n",
    "print(G_matrix)\n",
    "    "
   ]
  },
  {
   "cell_type": "code",
   "execution_count": null,
   "metadata": {},
   "outputs": [],
   "source": [
    "# Student: Change to 3D and put in units\n",
    "volume = np.sqrt(np.linalg.det(G_matrix))\n",
    "print(volume)"
   ]
  },
  {
   "cell_type": "code",
   "execution_count": null,
   "metadata": {},
   "outputs": [],
   "source": [
    "# Calculate bond length\n",
    "# atom A\n",
    "Xa = np.array([\n",
    "      [-.109],\n",
    "      [ .073]\n",
    "]\n",
    ")\n",
    "print(Xa)\n",
    "Xb = np.array([\n",
    "     [.071],\n",
    "     [.182]\n",
    "]\n",
    ")\n",
    "print(Xb)   \n",
    "Xab = (Xb -Xa)\n",
    "print (Xab)\n",
    "XabT = np.transpose(Xab)\n",
    "print (XabT)\n",
    "bond_length_ab = np.sqrt(XabT@G_matrix@Xab)\n",
    "print(bond_length_ab)\n",
    "\n",
    "# Label bond length in Angstroms"
   ]
  },
  {
   "cell_type": "code",
   "execution_count": null,
   "metadata": {},
   "outputs": [],
   "source": [
    "# Now calculate bond angle\n",
    "# Calculate bond length\n",
    "# Example: atom  CA =  .071a + .182b \n",
    "#          atom  CB = -.109a + .073b \n",
    "#          atom  CE = -.222a + .149b \n",
    "# form <BAC (note A the apex of the angle theta)\n",
    "# The final equation on page 44 of the text is\n",
    "#   Cos theta =  (XabT G Xac) / sqrt(XabT G Xab) * sqrt(XacT G Xac)\n",
    "#   Note vectors have directions\n",
    "#   Above the bond length AB  has be calculated  (sqrt(XabT G Xab))\n",
    "#   Next the bond length AC has to be calculated (sqrt(XacT G Xac))\n",
    "#   Then calculate (XabT G Xac)\n",
    "#   Finally the arc cos is applied to get theta."
   ]
  },
  {
   "cell_type": "code",
   "execution_count": null,
   "metadata": {},
   "outputs": [],
   "source": [
    "# Calculate bond length AC\n",
    "# Example: atom  A = .3a + .3b\n",
    "#      and atom  C = .1a + .1b\n",
    "\n",
    "Xa = np.array([\n",
    "            [-.109],\n",
    "            [ .073]\n",
    "]\n",
    ")\n",
    "print(Xa)\n",
    "Xc = np.array([\n",
    "            [-.222],\n",
    "            [ .149]\n",
    "]\n",
    ")\n",
    "print(Xc)   \n",
    "Xac = (Xc -Xa)\n",
    "print (Xac)\n",
    "XacT = np.transpose(Xac)\n",
    "print (XacT)\n",
    "bond_length_ac = np.sqrt(XacT@G_matrix@Xac)\n",
    "print(bond_length_ac)\n",
    "#label bond length in Angstroms"
   ]
  },
  {
   "cell_type": "code",
   "execution_count": null,
   "metadata": {},
   "outputs": [],
   "source": [
    "# Then calculate (XabT G Xac)\n",
    "XabTGXac = XabT@G_matrix@Xac\n",
    "print(XabTGXac)"
   ]
  },
  {
   "cell_type": "code",
   "execution_count": null,
   "metadata": {},
   "outputs": [],
   "source": [
    "# Calculate interatomic angle theta \n",
    "costheta = XabTGXac/(bond_length_ab @ bond_length_ac)\n",
    "print(costheta)\n"
   ]
  },
  {
   "cell_type": "code",
   "execution_count": null,
   "metadata": {},
   "outputs": [],
   "source": [
    "theta_radians = np.arccos(costheta)\n",
    "print(theta_radians)"
   ]
  },
  {
   "cell_type": "code",
   "execution_count": null,
   "metadata": {},
   "outputs": [],
   "source": [
    "theta_degrees = np.rad2deg(theta_radians)\n",
    "print(theta_degrees)"
   ]
  }
 ],
 "metadata": {
  "kernelspec": {
   "display_name": "Python 3 (ipykernel)",
   "language": "python",
   "name": "python3"
  },
  "language_info": {
   "codemirror_mode": {
    "name": "ipython",
    "version": 3
   },
   "file_extension": ".py",
   "mimetype": "text/x-python",
   "name": "python",
   "nbconvert_exporter": "python",
   "pygments_lexer": "ipython3",
   "version": "3.9.12"
  }
 },
 "nbformat": 4,
 "nbformat_minor": 2
}
