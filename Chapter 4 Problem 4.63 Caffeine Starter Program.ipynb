{
 "cells": [
  {
   "cell_type": "markdown",
   "metadata": {},
   "source": [
    "## Chapter 4 Problem 4.63: Starter Program\n",
    "### Caffeine Populated Unit Cell\n",
    "\n",
    "#### From: M. Julian, [*Foundations of Crystallography with Computer Applications Third Edition*](https://www.crcpress.com/Foundations-of-Crystallography-with-Computer-Applications/Julian/p/book/9781466552913). CRC Press, Taylor & Francis, Boca Raton\n",
    "\n",
    "#### References\n",
    " - See *Chapter 1 Problem 1.09 Starter Program* for installation of Python, Jupyter, Numpy, and Matplotlib\n",
    " - Data Source: Cambridge Structure Database: cafine01"
   ]
  },
  {
   "cell_type": "code",
   "execution_count": 1,
   "metadata": {
    "scrolled": true
   },
   "outputs": [],
   "source": [
    "import numpy as np \n",
    "import matplotlib.pyplot as plt  \n",
    "from mpl_toolkits.mplot3d import axis3d\n",
    "np.set_printoptions(precision=4, suppress=True) # suppress means numbers close to zero printed as zero\n",
    "%matplotlib notebook"
   ]
  },
  {
   "cell_type": "code",
   "execution_count": 2,
   "metadata": {
    "scrolled": true
   },
   "outputs": [
    {
     "name": "stdout",
     "output_type": "stream",
     "text": [
      "a     =    3.974 Å\n",
      "b     =   16.751 Å\n",
      "c     =   14.800 Å\n",
      "alpha =   90.000 degrees\n",
      "beta  =   95.800 degrees\n",
      "gamma =   90.000 degrees\n"
     ]
    }
   ],
   "source": [
    "# Student enter in your own a, b, c, alpha, beta, gamma\n",
    "\n",
    "# Lattice information for the unit cell\n",
    "a = 3.974               # Crystallographic a axis (Å, angstroms)\n",
    "b = 16.751              # Crystallographic b axis (Å, angstroms)\n",
    "c = 14.800              # Crystallographic c axis (Å, angstroms)\n",
    "alpha = 90              # Angle between b and c  (degrees)\n",
    "beta = 95.80            # Angle between a and c  (degrees)\n",
    "gamma = 90              # Angle between a and b  (degrees)\n",
    "\n",
    "# f\"a string {variable}\" prints formatted text with variables inside curly braces {}\n",
    "# : 8.3f  space means left padded with space, 8 characters total width (including .), 3 decimals after periods\n",
    "print(f\"a     = {a: 8.3f} Å\")\n",
    "print(f\"b     = {b: 8.3f} Å\")\n",
    "print(f\"c     = {c: 8.3f} Å\")\n",
    "print(f\"alpha = {alpha: 8.3f} degrees\")\n",
    "print(f\"beta  = {beta: 8.3f} degrees\")\n",
    "print(f\"gamma = {gamma: 8.3f} degrees\")\n",
    "  "
   ]
  },
  {
   "cell_type": "code",
   "execution_count": 3,
   "metadata": {
    "scrolled": true
   },
   "outputs": [],
   "source": [
    "def sind(angle_degrees):\n",
    "    \"\"\"sine in degrees\"\"\"  #python \"\"\" string to document functions\n",
    "    angle_radians = np.deg2rad(angle_degrees)\n",
    "    return np.sin(angle_radians)\n",
    "\n",
    "def cosd(angle_degrees):\n",
    "    \"\"\"cosine in degrees\"\"\"\n",
    "    angle_radians = np.deg2rad(angle_degrees)\n",
    "    return np.cos(angle_radians)\n",
    "\n",
    "def initial_axis():\n",
    "    \"\"\"prints the unit cell with a axis red, b axis green, c axis blue\"\"\"\n",
    "    fig = plt.figure()\n",
    "    ax = fig.add_subplot(111, projection='3d')\n",
    "    \n",
    "    # makes sure that projection is not perspective, but orthogonal\n",
    "    ax.set_proj_type('ortho')\n",
    "    \n",
    "    # defines the aspect of the axes in figure space to be equal\n",
    "    ax.set_box_aspect(aspect = (1,1,1))\n",
    "    \n",
    "    # comment to add grid lines\n",
    "    ax.axis('off')\n",
    "    \n",
    "    ax.plot(outline_cartesian[0], outline_cartesian[1], outline_cartesian[2],'k',linewidth=.5)    # plots black outline of cell\n",
    "    ax.plot(outline_red_cartesian[0], outline_red_cartesian[1],outline_red_cartesian[2],'r',linewidth=3)  #plots a axis red\n",
    "    ax.plot(outline_green_cartesian[0], outline_green_cartesian[1],outline_green_cartesian[2],'g',linewidth=3)  #plots b axis green\n",
    "    ax.plot(outline_blue_cartesian[0], outline_blue_cartesian[1], outline_blue_cartesian[2], 'b', linewidth=3)  #plots c axis blue\n",
    "    return ax\n",
    "\n",
    "\n",
    "def cartesian_view(ax, x, y, z):\n",
    "    \"\"\"places 3d camera at x, y, z position looking back at the origin \"\"\"\n",
    "    azimuth = np.rad2deg(np.arctan2(y,x))\n",
    "    elevation = np.rad2deg(np.arctan2(z, np.sqrt(x**2 + y**2)))\n",
    "    ax.view_init(azim=azimuth, elev=elevation)"
   ]
  },
  {
   "cell_type": "code",
   "execution_count": 4,
   "metadata": {
    "scrolled": true
   },
   "outputs": [],
   "source": [
    "# Create conversion to cartesian matrix from crystallographic parameters a, b, c and angles alpha, beta, gamma\n",
    "\n",
    "c1 = c * cosd(beta)\n",
    "c2 = (c * cosd(alpha) - cosd(gamma) * cosd(beta)) / sind(gamma)\n",
    "c3 = np.sqrt(abs(c ** 2 - c1 ** 2 - c2 ** 2))\n",
    "\n",
    "\n",
    "conversion_to_cartesian = np.array([\n",
    "       [a, b*cosd(gamma), c1],\n",
    "       [0, b*sind(gamma), c2],\n",
    "       [0, 0,             c3]\n",
    "    ])\n",
    "\n",
    "#print(conversion_to_cartesian)"
   ]
  },
  {
   "cell_type": "code",
   "execution_count": 5,
   "metadata": {
    "scrolled": true
   },
   "outputs": [
    {
     "name": "stdout",
     "output_type": "stream",
     "text": [
      "[[ 0.     -1.4956]\n",
      " [ 0.      0.    ]\n",
      " [ 0.     14.7242]]\n"
     ]
    }
   ],
   "source": [
    "# 3 dimensional outline represented by a 3 * 16 matrix\n",
    "outline = np.array(\n",
    "    [\n",
    "        [0, 0, 1, 1, 0, 0, 0, 0, 1, 1, 0, 0, 1, 1, 1, 1],\n",
    "        [0, 0, 0, 0, 0, 1, 1, 0, 0, 1, 1, 1, 1, 1, 1, 0],\n",
    "        [0, 1, 1, 0, 0, 0, 1, 1, 1, 1, 1, 0, 0, 1, 0, 0]\n",
    "    ]\n",
    ")\n",
    "\n",
    "outline_cartesian = np.dot(conversion_to_cartesian, outline)\n",
    "\n",
    "# Color a axis red\n",
    "outline_red = np.array(\n",
    "    [\n",
    "        [ 0, 1], # note comma between lists [], []\n",
    "        [ 0, 0],\n",
    "        [ 0, 0]\n",
    "    ]\n",
    ")\n",
    "\n",
    "outline_red_cartesian = np.dot(conversion_to_cartesian, outline_red)\n",
    "\n",
    "# Color b axis green\n",
    "outline_green = np.array(\n",
    "    [\n",
    "        [ 0, 0], # note comma between lists [], []\n",
    "        [ 0, 1],\n",
    "        [ 0, 0]\n",
    "    ]\n",
    ")\n",
    "outline_green_cartesian = np.dot(conversion_to_cartesian, outline_green)\n",
    "\n",
    "# Color c axis blue\n",
    "outline_blue = np.array(\n",
    "    [\n",
    "        [ 0, 0], # note comma between lists [], []\n",
    "        [ 0, 0],\n",
    "        [ 0, 1]\n",
    "    ]\n",
    ")\n",
    "\n",
    "outline_blue_cartesian = np.dot(conversion_to_cartesian, outline_blue)\n",
    "print(outline_blue_cartesian)"
   ]
  },
  {
   "cell_type": "markdown",
   "metadata": {},
   "source": [
    "Now that the unit cell has be completed, the atoms and bond lenghts can be inserted and the projections made."
   ]
  },
  {
   "cell_type": "code",
   "execution_count": 6,
   "metadata": {
    "scrolled": true
   },
   "outputs": [
    {
     "name": "stdout",
     "output_type": "stream",
     "text": [
      "{'C1': [0.1908, 0.3252, 0.0862], 'C2': [-0.1012, 0.2789, 0.24], 'C3': [0.1349, 0.2466, 0.104], 'C4': [0.1126, 0.3879, 0.1444]}\n"
     ]
    }
   ],
   "source": [
    "# Student: Enter the fractional coordinates of asymmetric unit for your crystal from cif\n",
    "\n",
    "# Python dictionaries are defined with curly braces {key1: value1, key2: value2}\n",
    "#   value1 in this case is a python list []\n",
    "\n",
    "atoms_AU ={ \n",
    "    'C1':[ 0.1908, 0.3252, 0.0862],\n",
    "    'C2':[-0.1012, 0.2789, 0.2400],\n",
    "    'C3':[ 0.1349, 0.2466, 0.1040],\n",
    "    'C4':[ 0.1126, 0.3879, 0.1444]\n",
    "          }\n",
    "print(atoms_AU) "
   ]
  },
  {
   "cell_type": "code",
   "execution_count": 7,
   "metadata": {
    "scrolled": true
   },
   "outputs": [
    {
     "name": "stdout",
     "output_type": "stream",
     "text": [
      "[[-0.1012  0.2789  0.24  ]\n",
      " [ 0.1349  0.2466  0.104 ]\n",
      " [ 0.1126  0.3879  0.1444]]\n"
     ]
    }
   ],
   "source": [
    "# Student: Create bond.  Here the molecule is traced by not 'lifting up the pen'.  AU is asymmetric unit\n",
    "\n",
    "atoms_AU_Bond =np.array([\n",
    "    atoms_AU['C2'],\n",
    "    atoms_AU['C3'],\n",
    "    atoms_AU['C4']\n",
    "                        ])\n",
    "\n",
    "print(atoms_AU_Bond)"
   ]
  },
  {
   "cell_type": "code",
   "execution_count": 8,
   "metadata": {
    "scrolled": true
   },
   "outputs": [
    {
     "name": "stdout",
     "output_type": "stream",
     "text": [
      "[[ 0.1908  0.3252  0.0862]\n",
      " [-0.1012  0.2789  0.24  ]\n",
      " [ 0.1349  0.2466  0.104 ]\n",
      " [ 0.1126  0.3879  0.1444]]\n"
     ]
    }
   ],
   "source": [
    "# Student: Atoms are grouped by element. This is so you can color the individual atoms and control the size. \n",
    "Carbon_Atoms_AU = np.array([\n",
    "    atoms_AU['C1'],\n",
    "    atoms_AU['C2'],\n",
    "    atoms_AU['C3'],\n",
    "    atoms_AU['C4']\n",
    " ])   \n",
    "print(Carbon_Atoms_AU)"
   ]
  },
  {
   "cell_type": "code",
   "execution_count": 9,
   "metadata": {
    "scrolled": true
   },
   "outputs": [],
   "source": [
    "# Student: Here are symmetry operations.  Put in your own symmetry operations. \n",
    "\n",
    "# Keep molecules in the unit cell by adding 1 to negative symmetry coordinate such as -x becomes 1-x \n",
    "# For example -x,-y,-z becomes 1-x,1-y,1-z or -x,.5+y, .5-y becomes 1-x,.5+y, .5-y   \n",
    "\n",
    "def symmetry_coordinate_1(a):#identity\n",
    "    x=a[0]\n",
    "    y=a[1]\n",
    "    z=a[2]\n",
    "    return [x,y,z]\n",
    "def symmetry_coordinate_2(a):#inversion\n",
    "    x=a[0]\n",
    "    y=a[1]\n",
    "    z=a[2]\n",
    "    return [1-x, 1-y, 1-z]\n",
    "def symmetry_coordinate_3(a):#screw\n",
    "    x=a[0]\n",
    "    y=a[1]\n",
    "    z=a[2]\n",
    "    return [1-x, .5+y, .5-z]\n"
   ]
  },
  {
   "cell_type": "code",
   "execution_count": 10,
   "metadata": {
    "scrolled": true
   },
   "outputs": [],
   "source": [
    "def plot_xyz(a, color):\n",
    "    ax.plot(a[0], a[1], a[2], color)\n",
    "\n",
    "def apply_symmetry(symmetry_function, atoms):\n",
    "    atoms_with_symmetry = np.apply_along_axis(symmetry_function, 1, atoms)\n",
    "    return np.dot(conversion_to_cartesian, atoms_with_symmetry.T)\n",
    "\n",
    "def plot_molecule(points, color, linewidth = 1, markersize = 2):\n",
    "    ax.plot(points[0], points[1], points[2], color,linewidth = linewidth, markersize = markersize)\n",
    "\n"
   ]
  },
  {
   "cell_type": "code",
   "execution_count": 11,
   "metadata": {
    "scrolled": false
   },
   "outputs": [
    {
     "data": {
      "application/javascript": "/* Put everything inside the global mpl namespace */\n/* global mpl */\nwindow.mpl = {};\n\nmpl.get_websocket_type = function () {\n    if (typeof WebSocket !== 'undefined') {\n        return WebSocket;\n    } else if (typeof MozWebSocket !== 'undefined') {\n        return MozWebSocket;\n    } else {\n        alert(\n            'Your browser does not have WebSocket support. ' +\n                'Please try Chrome, Safari or Firefox ≥ 6. ' +\n                'Firefox 4 and 5 are also supported but you ' +\n                'have to enable WebSockets in about:config.'\n        );\n    }\n};\n\nmpl.figure = function (figure_id, websocket, ondownload, parent_element) {\n    this.id = figure_id;\n\n    this.ws = websocket;\n\n    this.supports_binary = this.ws.binaryType !== undefined;\n\n    if (!this.supports_binary) {\n        var warnings = document.getElementById('mpl-warnings');\n        if (warnings) {\n            warnings.style.display = 'block';\n            warnings.textContent =\n                'This browser does not support binary websocket messages. ' +\n                'Performance may be slow.';\n        }\n    }\n\n    this.imageObj = new Image();\n\n    this.context = undefined;\n    this.message = undefined;\n    this.canvas = undefined;\n    this.rubberband_canvas = undefined;\n    this.rubberband_context = undefined;\n    this.format_dropdown = undefined;\n\n    this.image_mode = 'full';\n\n    this.root = document.createElement('div');\n    this.root.setAttribute('style', 'display: inline-block');\n    this._root_extra_style(this.root);\n\n    parent_element.appendChild(this.root);\n\n    this._init_header(this);\n    this._init_canvas(this);\n    this._init_toolbar(this);\n\n    var fig = this;\n\n    this.waiting = false;\n\n    this.ws.onopen = function () {\n        fig.send_message('supports_binary', { value: fig.supports_binary });\n        fig.send_message('send_image_mode', {});\n        if (fig.ratio !== 1) {\n            fig.send_message('set_device_pixel_ratio', {\n                device_pixel_ratio: fig.ratio,\n            });\n        }\n        fig.send_message('refresh', {});\n    };\n\n    this.imageObj.onload = function () {\n        if (fig.image_mode === 'full') {\n            // Full images could contain transparency (where diff images\n            // almost always do), so we need to clear the canvas so that\n            // there is no ghosting.\n            fig.context.clearRect(0, 0, fig.canvas.width, fig.canvas.height);\n        }\n        fig.context.drawImage(fig.imageObj, 0, 0);\n    };\n\n    this.imageObj.onunload = function () {\n        fig.ws.close();\n    };\n\n    this.ws.onmessage = this._make_on_message_function(this);\n\n    this.ondownload = ondownload;\n};\n\nmpl.figure.prototype._init_header = function () {\n    var titlebar = document.createElement('div');\n    titlebar.classList =\n        'ui-dialog-titlebar ui-widget-header ui-corner-all ui-helper-clearfix';\n    var titletext = document.createElement('div');\n    titletext.classList = 'ui-dialog-title';\n    titletext.setAttribute(\n        'style',\n        'width: 100%; text-align: center; padding: 3px;'\n    );\n    titlebar.appendChild(titletext);\n    this.root.appendChild(titlebar);\n    this.header = titletext;\n};\n\nmpl.figure.prototype._canvas_extra_style = function (_canvas_div) {};\n\nmpl.figure.prototype._root_extra_style = function (_canvas_div) {};\n\nmpl.figure.prototype._init_canvas = function () {\n    var fig = this;\n\n    var canvas_div = (this.canvas_div = document.createElement('div'));\n    canvas_div.setAttribute(\n        'style',\n        'border: 1px solid #ddd;' +\n            'box-sizing: content-box;' +\n            'clear: both;' +\n            'min-height: 1px;' +\n            'min-width: 1px;' +\n            'outline: 0;' +\n            'overflow: hidden;' +\n            'position: relative;' +\n            'resize: both;'\n    );\n\n    function on_keyboard_event_closure(name) {\n        return function (event) {\n            return fig.key_event(event, name);\n        };\n    }\n\n    canvas_div.addEventListener(\n        'keydown',\n        on_keyboard_event_closure('key_press')\n    );\n    canvas_div.addEventListener(\n        'keyup',\n        on_keyboard_event_closure('key_release')\n    );\n\n    this._canvas_extra_style(canvas_div);\n    this.root.appendChild(canvas_div);\n\n    var canvas = (this.canvas = document.createElement('canvas'));\n    canvas.classList.add('mpl-canvas');\n    canvas.setAttribute('style', 'box-sizing: content-box;');\n\n    this.context = canvas.getContext('2d');\n\n    var backingStore =\n        this.context.backingStorePixelRatio ||\n        this.context.webkitBackingStorePixelRatio ||\n        this.context.mozBackingStorePixelRatio ||\n        this.context.msBackingStorePixelRatio ||\n        this.context.oBackingStorePixelRatio ||\n        this.context.backingStorePixelRatio ||\n        1;\n\n    this.ratio = (window.devicePixelRatio || 1) / backingStore;\n\n    var rubberband_canvas = (this.rubberband_canvas = document.createElement(\n        'canvas'\n    ));\n    rubberband_canvas.setAttribute(\n        'style',\n        'box-sizing: content-box; position: absolute; left: 0; top: 0; z-index: 1;'\n    );\n\n    // Apply a ponyfill if ResizeObserver is not implemented by browser.\n    if (this.ResizeObserver === undefined) {\n        if (window.ResizeObserver !== undefined) {\n            this.ResizeObserver = window.ResizeObserver;\n        } else {\n            var obs = _JSXTOOLS_RESIZE_OBSERVER({});\n            this.ResizeObserver = obs.ResizeObserver;\n        }\n    }\n\n    this.resizeObserverInstance = new this.ResizeObserver(function (entries) {\n        var nentries = entries.length;\n        for (var i = 0; i < nentries; i++) {\n            var entry = entries[i];\n            var width, height;\n            if (entry.contentBoxSize) {\n                if (entry.contentBoxSize instanceof Array) {\n                    // Chrome 84 implements new version of spec.\n                    width = entry.contentBoxSize[0].inlineSize;\n                    height = entry.contentBoxSize[0].blockSize;\n                } else {\n                    // Firefox implements old version of spec.\n                    width = entry.contentBoxSize.inlineSize;\n                    height = entry.contentBoxSize.blockSize;\n                }\n            } else {\n                // Chrome <84 implements even older version of spec.\n                width = entry.contentRect.width;\n                height = entry.contentRect.height;\n            }\n\n            // Keep the size of the canvas and rubber band canvas in sync with\n            // the canvas container.\n            if (entry.devicePixelContentBoxSize) {\n                // Chrome 84 implements new version of spec.\n                canvas.setAttribute(\n                    'width',\n                    entry.devicePixelContentBoxSize[0].inlineSize\n                );\n                canvas.setAttribute(\n                    'height',\n                    entry.devicePixelContentBoxSize[0].blockSize\n                );\n            } else {\n                canvas.setAttribute('width', width * fig.ratio);\n                canvas.setAttribute('height', height * fig.ratio);\n            }\n            canvas.setAttribute(\n                'style',\n                'width: ' + width + 'px; height: ' + height + 'px;'\n            );\n\n            rubberband_canvas.setAttribute('width', width);\n            rubberband_canvas.setAttribute('height', height);\n\n            // And update the size in Python. We ignore the initial 0/0 size\n            // that occurs as the element is placed into the DOM, which should\n            // otherwise not happen due to the minimum size styling.\n            if (fig.ws.readyState == 1 && width != 0 && height != 0) {\n                fig.request_resize(width, height);\n            }\n        }\n    });\n    this.resizeObserverInstance.observe(canvas_div);\n\n    function on_mouse_event_closure(name) {\n        return function (event) {\n            return fig.mouse_event(event, name);\n        };\n    }\n\n    rubberband_canvas.addEventListener(\n        'mousedown',\n        on_mouse_event_closure('button_press')\n    );\n    rubberband_canvas.addEventListener(\n        'mouseup',\n        on_mouse_event_closure('button_release')\n    );\n    rubberband_canvas.addEventListener(\n        'dblclick',\n        on_mouse_event_closure('dblclick')\n    );\n    // Throttle sequential mouse events to 1 every 20ms.\n    rubberband_canvas.addEventListener(\n        'mousemove',\n        on_mouse_event_closure('motion_notify')\n    );\n\n    rubberband_canvas.addEventListener(\n        'mouseenter',\n        on_mouse_event_closure('figure_enter')\n    );\n    rubberband_canvas.addEventListener(\n        'mouseleave',\n        on_mouse_event_closure('figure_leave')\n    );\n\n    canvas_div.addEventListener('wheel', function (event) {\n        if (event.deltaY < 0) {\n            event.step = 1;\n        } else {\n            event.step = -1;\n        }\n        on_mouse_event_closure('scroll')(event);\n    });\n\n    canvas_div.appendChild(canvas);\n    canvas_div.appendChild(rubberband_canvas);\n\n    this.rubberband_context = rubberband_canvas.getContext('2d');\n    this.rubberband_context.strokeStyle = '#000000';\n\n    this._resize_canvas = function (width, height, forward) {\n        if (forward) {\n            canvas_div.style.width = width + 'px';\n            canvas_div.style.height = height + 'px';\n        }\n    };\n\n    // Disable right mouse context menu.\n    this.rubberband_canvas.addEventListener('contextmenu', function (_e) {\n        event.preventDefault();\n        return false;\n    });\n\n    function set_focus() {\n        canvas.focus();\n        canvas_div.focus();\n    }\n\n    window.setTimeout(set_focus, 100);\n};\n\nmpl.figure.prototype._init_toolbar = function () {\n    var fig = this;\n\n    var toolbar = document.createElement('div');\n    toolbar.classList = 'mpl-toolbar';\n    this.root.appendChild(toolbar);\n\n    function on_click_closure(name) {\n        return function (_event) {\n            return fig.toolbar_button_onclick(name);\n        };\n    }\n\n    function on_mouseover_closure(tooltip) {\n        return function (event) {\n            if (!event.currentTarget.disabled) {\n                return fig.toolbar_button_onmouseover(tooltip);\n            }\n        };\n    }\n\n    fig.buttons = {};\n    var buttonGroup = document.createElement('div');\n    buttonGroup.classList = 'mpl-button-group';\n    for (var toolbar_ind in mpl.toolbar_items) {\n        var name = mpl.toolbar_items[toolbar_ind][0];\n        var tooltip = mpl.toolbar_items[toolbar_ind][1];\n        var image = mpl.toolbar_items[toolbar_ind][2];\n        var method_name = mpl.toolbar_items[toolbar_ind][3];\n\n        if (!name) {\n            /* Instead of a spacer, we start a new button group. */\n            if (buttonGroup.hasChildNodes()) {\n                toolbar.appendChild(buttonGroup);\n            }\n            buttonGroup = document.createElement('div');\n            buttonGroup.classList = 'mpl-button-group';\n            continue;\n        }\n\n        var button = (fig.buttons[name] = document.createElement('button'));\n        button.classList = 'mpl-widget';\n        button.setAttribute('role', 'button');\n        button.setAttribute('aria-disabled', 'false');\n        button.addEventListener('click', on_click_closure(method_name));\n        button.addEventListener('mouseover', on_mouseover_closure(tooltip));\n\n        var icon_img = document.createElement('img');\n        icon_img.src = '_images/' + image + '.png';\n        icon_img.srcset = '_images/' + image + '_large.png 2x';\n        icon_img.alt = tooltip;\n        button.appendChild(icon_img);\n\n        buttonGroup.appendChild(button);\n    }\n\n    if (buttonGroup.hasChildNodes()) {\n        toolbar.appendChild(buttonGroup);\n    }\n\n    var fmt_picker = document.createElement('select');\n    fmt_picker.classList = 'mpl-widget';\n    toolbar.appendChild(fmt_picker);\n    this.format_dropdown = fmt_picker;\n\n    for (var ind in mpl.extensions) {\n        var fmt = mpl.extensions[ind];\n        var option = document.createElement('option');\n        option.selected = fmt === mpl.default_extension;\n        option.innerHTML = fmt;\n        fmt_picker.appendChild(option);\n    }\n\n    var status_bar = document.createElement('span');\n    status_bar.classList = 'mpl-message';\n    toolbar.appendChild(status_bar);\n    this.message = status_bar;\n};\n\nmpl.figure.prototype.request_resize = function (x_pixels, y_pixels) {\n    // Request matplotlib to resize the figure. Matplotlib will then trigger a resize in the client,\n    // which will in turn request a refresh of the image.\n    this.send_message('resize', { width: x_pixels, height: y_pixels });\n};\n\nmpl.figure.prototype.send_message = function (type, properties) {\n    properties['type'] = type;\n    properties['figure_id'] = this.id;\n    this.ws.send(JSON.stringify(properties));\n};\n\nmpl.figure.prototype.send_draw_message = function () {\n    if (!this.waiting) {\n        this.waiting = true;\n        this.ws.send(JSON.stringify({ type: 'draw', figure_id: this.id }));\n    }\n};\n\nmpl.figure.prototype.handle_save = function (fig, _msg) {\n    var format_dropdown = fig.format_dropdown;\n    var format = format_dropdown.options[format_dropdown.selectedIndex].value;\n    fig.ondownload(fig, format);\n};\n\nmpl.figure.prototype.handle_resize = function (fig, msg) {\n    var size = msg['size'];\n    if (size[0] !== fig.canvas.width || size[1] !== fig.canvas.height) {\n        fig._resize_canvas(size[0], size[1], msg['forward']);\n        fig.send_message('refresh', {});\n    }\n};\n\nmpl.figure.prototype.handle_rubberband = function (fig, msg) {\n    var x0 = msg['x0'] / fig.ratio;\n    var y0 = (fig.canvas.height - msg['y0']) / fig.ratio;\n    var x1 = msg['x1'] / fig.ratio;\n    var y1 = (fig.canvas.height - msg['y1']) / fig.ratio;\n    x0 = Math.floor(x0) + 0.5;\n    y0 = Math.floor(y0) + 0.5;\n    x1 = Math.floor(x1) + 0.5;\n    y1 = Math.floor(y1) + 0.5;\n    var min_x = Math.min(x0, x1);\n    var min_y = Math.min(y0, y1);\n    var width = Math.abs(x1 - x0);\n    var height = Math.abs(y1 - y0);\n\n    fig.rubberband_context.clearRect(\n        0,\n        0,\n        fig.canvas.width / fig.ratio,\n        fig.canvas.height / fig.ratio\n    );\n\n    fig.rubberband_context.strokeRect(min_x, min_y, width, height);\n};\n\nmpl.figure.prototype.handle_figure_label = function (fig, msg) {\n    // Updates the figure title.\n    fig.header.textContent = msg['label'];\n};\n\nmpl.figure.prototype.handle_cursor = function (fig, msg) {\n    fig.rubberband_canvas.style.cursor = msg['cursor'];\n};\n\nmpl.figure.prototype.handle_message = function (fig, msg) {\n    fig.message.textContent = msg['message'];\n};\n\nmpl.figure.prototype.handle_draw = function (fig, _msg) {\n    // Request the server to send over a new figure.\n    fig.send_draw_message();\n};\n\nmpl.figure.prototype.handle_image_mode = function (fig, msg) {\n    fig.image_mode = msg['mode'];\n};\n\nmpl.figure.prototype.handle_history_buttons = function (fig, msg) {\n    for (var key in msg) {\n        if (!(key in fig.buttons)) {\n            continue;\n        }\n        fig.buttons[key].disabled = !msg[key];\n        fig.buttons[key].setAttribute('aria-disabled', !msg[key]);\n    }\n};\n\nmpl.figure.prototype.handle_navigate_mode = function (fig, msg) {\n    if (msg['mode'] === 'PAN') {\n        fig.buttons['Pan'].classList.add('active');\n        fig.buttons['Zoom'].classList.remove('active');\n    } else if (msg['mode'] === 'ZOOM') {\n        fig.buttons['Pan'].classList.remove('active');\n        fig.buttons['Zoom'].classList.add('active');\n    } else {\n        fig.buttons['Pan'].classList.remove('active');\n        fig.buttons['Zoom'].classList.remove('active');\n    }\n};\n\nmpl.figure.prototype.updated_canvas_event = function () {\n    // Called whenever the canvas gets updated.\n    this.send_message('ack', {});\n};\n\n// A function to construct a web socket function for onmessage handling.\n// Called in the figure constructor.\nmpl.figure.prototype._make_on_message_function = function (fig) {\n    return function socket_on_message(evt) {\n        if (evt.data instanceof Blob) {\n            var img = evt.data;\n            if (img.type !== 'image/png') {\n                /* FIXME: We get \"Resource interpreted as Image but\n                 * transferred with MIME type text/plain:\" errors on\n                 * Chrome.  But how to set the MIME type?  It doesn't seem\n                 * to be part of the websocket stream */\n                img.type = 'image/png';\n            }\n\n            /* Free the memory for the previous frames */\n            if (fig.imageObj.src) {\n                (window.URL || window.webkitURL).revokeObjectURL(\n                    fig.imageObj.src\n                );\n            }\n\n            fig.imageObj.src = (window.URL || window.webkitURL).createObjectURL(\n                img\n            );\n            fig.updated_canvas_event();\n            fig.waiting = false;\n            return;\n        } else if (\n            typeof evt.data === 'string' &&\n            evt.data.slice(0, 21) === 'data:image/png;base64'\n        ) {\n            fig.imageObj.src = evt.data;\n            fig.updated_canvas_event();\n            fig.waiting = false;\n            return;\n        }\n\n        var msg = JSON.parse(evt.data);\n        var msg_type = msg['type'];\n\n        // Call the  \"handle_{type}\" callback, which takes\n        // the figure and JSON message as its only arguments.\n        try {\n            var callback = fig['handle_' + msg_type];\n        } catch (e) {\n            console.log(\n                \"No handler for the '\" + msg_type + \"' message type: \",\n                msg\n            );\n            return;\n        }\n\n        if (callback) {\n            try {\n                // console.log(\"Handling '\" + msg_type + \"' message: \", msg);\n                callback(fig, msg);\n            } catch (e) {\n                console.log(\n                    \"Exception inside the 'handler_\" + msg_type + \"' callback:\",\n                    e,\n                    e.stack,\n                    msg\n                );\n            }\n        }\n    };\n};\n\n// from https://stackoverflow.com/questions/1114465/getting-mouse-location-in-canvas\nmpl.findpos = function (e) {\n    //this section is from http://www.quirksmode.org/js/events_properties.html\n    var targ;\n    if (!e) {\n        e = window.event;\n    }\n    if (e.target) {\n        targ = e.target;\n    } else if (e.srcElement) {\n        targ = e.srcElement;\n    }\n    if (targ.nodeType === 3) {\n        // defeat Safari bug\n        targ = targ.parentNode;\n    }\n\n    // pageX,Y are the mouse positions relative to the document\n    var boundingRect = targ.getBoundingClientRect();\n    var x = e.pageX - (boundingRect.left + document.body.scrollLeft);\n    var y = e.pageY - (boundingRect.top + document.body.scrollTop);\n\n    return { x: x, y: y };\n};\n\n/*\n * return a copy of an object with only non-object keys\n * we need this to avoid circular references\n * https://stackoverflow.com/a/24161582/3208463\n */\nfunction simpleKeys(original) {\n    return Object.keys(original).reduce(function (obj, key) {\n        if (typeof original[key] !== 'object') {\n            obj[key] = original[key];\n        }\n        return obj;\n    }, {});\n}\n\nmpl.figure.prototype.mouse_event = function (event, name) {\n    var canvas_pos = mpl.findpos(event);\n\n    if (name === 'button_press') {\n        this.canvas.focus();\n        this.canvas_div.focus();\n    }\n\n    var x = canvas_pos.x * this.ratio;\n    var y = canvas_pos.y * this.ratio;\n\n    this.send_message(name, {\n        x: x,\n        y: y,\n        button: event.button,\n        step: event.step,\n        guiEvent: simpleKeys(event),\n    });\n\n    /* This prevents the web browser from automatically changing to\n     * the text insertion cursor when the button is pressed.  We want\n     * to control all of the cursor setting manually through the\n     * 'cursor' event from matplotlib */\n    event.preventDefault();\n    return false;\n};\n\nmpl.figure.prototype._key_event_extra = function (_event, _name) {\n    // Handle any extra behaviour associated with a key event\n};\n\nmpl.figure.prototype.key_event = function (event, name) {\n    // Prevent repeat events\n    if (name === 'key_press') {\n        if (event.key === this._key) {\n            return;\n        } else {\n            this._key = event.key;\n        }\n    }\n    if (name === 'key_release') {\n        this._key = null;\n    }\n\n    var value = '';\n    if (event.ctrlKey && event.key !== 'Control') {\n        value += 'ctrl+';\n    }\n    else if (event.altKey && event.key !== 'Alt') {\n        value += 'alt+';\n    }\n    else if (event.shiftKey && event.key !== 'Shift') {\n        value += 'shift+';\n    }\n\n    value += 'k' + event.key;\n\n    this._key_event_extra(event, name);\n\n    this.send_message(name, { key: value, guiEvent: simpleKeys(event) });\n    return false;\n};\n\nmpl.figure.prototype.toolbar_button_onclick = function (name) {\n    if (name === 'download') {\n        this.handle_save(this, null);\n    } else {\n        this.send_message('toolbar_button', { name: name });\n    }\n};\n\nmpl.figure.prototype.toolbar_button_onmouseover = function (tooltip) {\n    this.message.textContent = tooltip;\n};\n\n///////////////// REMAINING CONTENT GENERATED BY embed_js.py /////////////////\n// prettier-ignore\nvar _JSXTOOLS_RESIZE_OBSERVER=function(A){var t,i=new WeakMap,n=new WeakMap,a=new WeakMap,r=new WeakMap,o=new Set;function s(e){if(!(this instanceof s))throw new TypeError(\"Constructor requires 'new' operator\");i.set(this,e)}function h(){throw new TypeError(\"Function is not a constructor\")}function c(e,t,i,n){e=0 in arguments?Number(arguments[0]):0,t=1 in arguments?Number(arguments[1]):0,i=2 in arguments?Number(arguments[2]):0,n=3 in arguments?Number(arguments[3]):0,this.right=(this.x=this.left=e)+(this.width=i),this.bottom=(this.y=this.top=t)+(this.height=n),Object.freeze(this)}function d(){t=requestAnimationFrame(d);var s=new WeakMap,p=new Set;o.forEach((function(t){r.get(t).forEach((function(i){var r=t instanceof window.SVGElement,o=a.get(t),d=r?0:parseFloat(o.paddingTop),f=r?0:parseFloat(o.paddingRight),l=r?0:parseFloat(o.paddingBottom),u=r?0:parseFloat(o.paddingLeft),g=r?0:parseFloat(o.borderTopWidth),m=r?0:parseFloat(o.borderRightWidth),w=r?0:parseFloat(o.borderBottomWidth),b=u+f,F=d+l,v=(r?0:parseFloat(o.borderLeftWidth))+m,W=g+w,y=r?0:t.offsetHeight-W-t.clientHeight,E=r?0:t.offsetWidth-v-t.clientWidth,R=b+v,z=F+W,M=r?t.width:parseFloat(o.width)-R-E,O=r?t.height:parseFloat(o.height)-z-y;if(n.has(t)){var k=n.get(t);if(k[0]===M&&k[1]===O)return}n.set(t,[M,O]);var S=Object.create(h.prototype);S.target=t,S.contentRect=new c(u,d,M,O),s.has(i)||(s.set(i,[]),p.add(i)),s.get(i).push(S)}))})),p.forEach((function(e){i.get(e).call(e,s.get(e),e)}))}return s.prototype.observe=function(i){if(i instanceof window.Element){r.has(i)||(r.set(i,new Set),o.add(i),a.set(i,window.getComputedStyle(i)));var n=r.get(i);n.has(this)||n.add(this),cancelAnimationFrame(t),t=requestAnimationFrame(d)}},s.prototype.unobserve=function(i){if(i instanceof window.Element&&r.has(i)){var n=r.get(i);n.has(this)&&(n.delete(this),n.size||(r.delete(i),o.delete(i))),n.size||r.delete(i),o.size||cancelAnimationFrame(t)}},A.DOMRectReadOnly=c,A.ResizeObserver=s,A.ResizeObserverEntry=h,A}; // eslint-disable-line\nmpl.toolbar_items = [[\"Home\", \"Reset original view\", \"fa fa-home icon-home\", \"home\"], [\"Back\", \"Back to previous view\", \"fa fa-arrow-left icon-arrow-left\", \"back\"], [\"Forward\", \"Forward to next view\", \"fa fa-arrow-right icon-arrow-right\", \"forward\"], [\"\", \"\", \"\", \"\"], [\"Pan\", \"Left button pans, Right button zooms\\nx/y fixes axis, CTRL fixes aspect\", \"fa fa-arrows icon-move\", \"pan\"], [\"Zoom\", \"Zoom to rectangle\\nx/y fixes axis\", \"fa fa-square-o icon-check-empty\", \"zoom\"], [\"\", \"\", \"\", \"\"], [\"Download\", \"Download plot\", \"fa fa-floppy-o icon-save\", \"download\"]];\n\nmpl.extensions = [\"eps\", \"jpeg\", \"pgf\", \"pdf\", \"png\", \"ps\", \"raw\", \"svg\", \"tif\"];\n\nmpl.default_extension = \"png\";/* global mpl */\n\nvar comm_websocket_adapter = function (comm) {\n    // Create a \"websocket\"-like object which calls the given IPython comm\n    // object with the appropriate methods. Currently this is a non binary\n    // socket, so there is still some room for performance tuning.\n    var ws = {};\n\n    ws.binaryType = comm.kernel.ws.binaryType;\n    ws.readyState = comm.kernel.ws.readyState;\n    function updateReadyState(_event) {\n        if (comm.kernel.ws) {\n            ws.readyState = comm.kernel.ws.readyState;\n        } else {\n            ws.readyState = 3; // Closed state.\n        }\n    }\n    comm.kernel.ws.addEventListener('open', updateReadyState);\n    comm.kernel.ws.addEventListener('close', updateReadyState);\n    comm.kernel.ws.addEventListener('error', updateReadyState);\n\n    ws.close = function () {\n        comm.close();\n    };\n    ws.send = function (m) {\n        //console.log('sending', m);\n        comm.send(m);\n    };\n    // Register the callback with on_msg.\n    comm.on_msg(function (msg) {\n        //console.log('receiving', msg['content']['data'], msg);\n        var data = msg['content']['data'];\n        if (data['blob'] !== undefined) {\n            data = {\n                data: new Blob(msg['buffers'], { type: data['blob'] }),\n            };\n        }\n        // Pass the mpl event to the overridden (by mpl) onmessage function.\n        ws.onmessage(data);\n    });\n    return ws;\n};\n\nmpl.mpl_figure_comm = function (comm, msg) {\n    // This is the function which gets called when the mpl process\n    // starts-up an IPython Comm through the \"matplotlib\" channel.\n\n    var id = msg.content.data.id;\n    // Get hold of the div created by the display call when the Comm\n    // socket was opened in Python.\n    var element = document.getElementById(id);\n    var ws_proxy = comm_websocket_adapter(comm);\n\n    function ondownload(figure, _format) {\n        window.open(figure.canvas.toDataURL());\n    }\n\n    var fig = new mpl.figure(id, ws_proxy, ondownload, element);\n\n    // Call onopen now - mpl needs it, as it is assuming we've passed it a real\n    // web socket which is closed, not our websocket->open comm proxy.\n    ws_proxy.onopen();\n\n    fig.parent_element = element;\n    fig.cell_info = mpl.find_output_cell(\"<div id='\" + id + \"'></div>\");\n    if (!fig.cell_info) {\n        console.error('Failed to find cell for figure', id, fig);\n        return;\n    }\n    fig.cell_info[0].output_area.element.on(\n        'cleared',\n        { fig: fig },\n        fig._remove_fig_handler\n    );\n};\n\nmpl.figure.prototype.handle_close = function (fig, msg) {\n    var width = fig.canvas.width / fig.ratio;\n    fig.cell_info[0].output_area.element.off(\n        'cleared',\n        fig._remove_fig_handler\n    );\n    fig.resizeObserverInstance.unobserve(fig.canvas_div);\n\n    // Update the output cell to use the data from the current canvas.\n    fig.push_to_output();\n    var dataURL = fig.canvas.toDataURL();\n    // Re-enable the keyboard manager in IPython - without this line, in FF,\n    // the notebook keyboard shortcuts fail.\n    IPython.keyboard_manager.enable();\n    fig.parent_element.innerHTML =\n        '<img src=\"' + dataURL + '\" width=\"' + width + '\">';\n    fig.close_ws(fig, msg);\n};\n\nmpl.figure.prototype.close_ws = function (fig, msg) {\n    fig.send_message('closing', msg);\n    // fig.ws.close()\n};\n\nmpl.figure.prototype.push_to_output = function (_remove_interactive) {\n    // Turn the data on the canvas into data in the output cell.\n    var width = this.canvas.width / this.ratio;\n    var dataURL = this.canvas.toDataURL();\n    this.cell_info[1]['text/html'] =\n        '<img src=\"' + dataURL + '\" width=\"' + width + '\">';\n};\n\nmpl.figure.prototype.updated_canvas_event = function () {\n    // Tell IPython that the notebook contents must change.\n    IPython.notebook.set_dirty(true);\n    this.send_message('ack', {});\n    var fig = this;\n    // Wait a second, then push the new image to the DOM so\n    // that it is saved nicely (might be nice to debounce this).\n    setTimeout(function () {\n        fig.push_to_output();\n    }, 1000);\n};\n\nmpl.figure.prototype._init_toolbar = function () {\n    var fig = this;\n\n    var toolbar = document.createElement('div');\n    toolbar.classList = 'btn-toolbar';\n    this.root.appendChild(toolbar);\n\n    function on_click_closure(name) {\n        return function (_event) {\n            return fig.toolbar_button_onclick(name);\n        };\n    }\n\n    function on_mouseover_closure(tooltip) {\n        return function (event) {\n            if (!event.currentTarget.disabled) {\n                return fig.toolbar_button_onmouseover(tooltip);\n            }\n        };\n    }\n\n    fig.buttons = {};\n    var buttonGroup = document.createElement('div');\n    buttonGroup.classList = 'btn-group';\n    var button;\n    for (var toolbar_ind in mpl.toolbar_items) {\n        var name = mpl.toolbar_items[toolbar_ind][0];\n        var tooltip = mpl.toolbar_items[toolbar_ind][1];\n        var image = mpl.toolbar_items[toolbar_ind][2];\n        var method_name = mpl.toolbar_items[toolbar_ind][3];\n\n        if (!name) {\n            /* Instead of a spacer, we start a new button group. */\n            if (buttonGroup.hasChildNodes()) {\n                toolbar.appendChild(buttonGroup);\n            }\n            buttonGroup = document.createElement('div');\n            buttonGroup.classList = 'btn-group';\n            continue;\n        }\n\n        button = fig.buttons[name] = document.createElement('button');\n        button.classList = 'btn btn-default';\n        button.href = '#';\n        button.title = name;\n        button.innerHTML = '<i class=\"fa ' + image + ' fa-lg\"></i>';\n        button.addEventListener('click', on_click_closure(method_name));\n        button.addEventListener('mouseover', on_mouseover_closure(tooltip));\n        buttonGroup.appendChild(button);\n    }\n\n    if (buttonGroup.hasChildNodes()) {\n        toolbar.appendChild(buttonGroup);\n    }\n\n    // Add the status bar.\n    var status_bar = document.createElement('span');\n    status_bar.classList = 'mpl-message pull-right';\n    toolbar.appendChild(status_bar);\n    this.message = status_bar;\n\n    // Add the close button to the window.\n    var buttongrp = document.createElement('div');\n    buttongrp.classList = 'btn-group inline pull-right';\n    button = document.createElement('button');\n    button.classList = 'btn btn-mini btn-primary';\n    button.href = '#';\n    button.title = 'Stop Interaction';\n    button.innerHTML = '<i class=\"fa fa-power-off icon-remove icon-large\"></i>';\n    button.addEventListener('click', function (_evt) {\n        fig.handle_close(fig, {});\n    });\n    button.addEventListener(\n        'mouseover',\n        on_mouseover_closure('Stop Interaction')\n    );\n    buttongrp.appendChild(button);\n    var titlebar = this.root.querySelector('.ui-dialog-titlebar');\n    titlebar.insertBefore(buttongrp, titlebar.firstChild);\n};\n\nmpl.figure.prototype._remove_fig_handler = function (event) {\n    var fig = event.data.fig;\n    if (event.target !== this) {\n        // Ignore bubbled events from children.\n        return;\n    }\n    fig.close_ws(fig, {});\n};\n\nmpl.figure.prototype._root_extra_style = function (el) {\n    el.style.boxSizing = 'content-box'; // override notebook setting of border-box.\n};\n\nmpl.figure.prototype._canvas_extra_style = function (el) {\n    // this is important to make the div 'focusable\n    el.setAttribute('tabindex', 0);\n    // reach out to IPython and tell the keyboard manager to turn it's self\n    // off when our div gets focus\n\n    // location in version 3\n    if (IPython.notebook.keyboard_manager) {\n        IPython.notebook.keyboard_manager.register_events(el);\n    } else {\n        // location in version 2\n        IPython.keyboard_manager.register_events(el);\n    }\n};\n\nmpl.figure.prototype._key_event_extra = function (event, _name) {\n    // Check for shift+enter\n    if (event.shiftKey && event.which === 13) {\n        this.canvas_div.blur();\n        // select the cell after this one\n        var index = IPython.notebook.find_cell_index(this.cell_info[0]);\n        IPython.notebook.select(index + 1);\n    }\n};\n\nmpl.figure.prototype.handle_save = function (fig, _msg) {\n    fig.ondownload(fig, null);\n};\n\nmpl.find_output_cell = function (html_output) {\n    // Return the cell and output element which can be found *uniquely* in the notebook.\n    // Note - this is a bit hacky, but it is done because the \"notebook_saving.Notebook\"\n    // IPython event is triggered only after the cells have been serialised, which for\n    // our purposes (turning an active figure into a static one), is too late.\n    var cells = IPython.notebook.get_cells();\n    var ncells = cells.length;\n    for (var i = 0; i < ncells; i++) {\n        var cell = cells[i];\n        if (cell.cell_type === 'code') {\n            for (var j = 0; j < cell.output_area.outputs.length; j++) {\n                var data = cell.output_area.outputs[j];\n                if (data.data) {\n                    // IPython >= 3 moved mimebundle to data attribute of output\n                    data = data.data;\n                }\n                if (data['text/html'] === html_output) {\n                    return [cell, data, j];\n                }\n            }\n        }\n    }\n};\n\n// Register the function which deals with the matplotlib target/channel.\n// The kernel may be null if the page has been refreshed.\nif (IPython.notebook.kernel !== null) {\n    IPython.notebook.kernel.comm_manager.register_target(\n        'matplotlib',\n        mpl.mpl_figure_comm\n    );\n}\n",
      "text/plain": [
       "<IPython.core.display.Javascript object>"
      ]
     },
     "metadata": {},
     "output_type": "display_data"
    },
    {
     "data": {
      "text/html": [
       "<img src=\"data:image/png;base64,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\" width=\"500\">"
      ],
      "text/plain": [
       "<IPython.core.display.HTML object>"
      ]
     },
     "metadata": {},
     "output_type": "display_data"
    }
   ],
   "source": [
    "ax = initial_axis() # Creates unit cell with a axis red, b axis green, c axis blue\n",
    "\n",
    "# Set camera view along axis\n",
    "along_axis = np.dot(conversion_to_cartesian, [1,0,0])    # a axis\n",
    "# along_axis = np.dot(conversion_to_cartesian, [0,1,0])  # b axis\n",
    "# along_axis = np.dot(conversion_to_cartesian, [0,0,1])  # c axis\n",
    "cartesian_view(ax, along_axis[0], along_axis[1], along_axis[2])\n",
    "\n",
    "#########################################\n",
    "# Set x, y and z axis to have the same range\n",
    "#  The range needs to be bigger than the longest unit cell length\n",
    "\n",
    "zoom=15 # z is zoom10, allows control of size of picture, smaller number larger picture\n",
    "ax.set_xlim(0,zoom)\n",
    "ax.set_ylim(0,zoom)\n",
    "ax.set_zlim(0,zoom)\n",
    "\n",
    "    \n",
    "plot_molecule(apply_symmetry(symmetry_coordinate_1, atoms_AU_Bond), 'r', linewidth = .5)\n",
    "plot_molecule(apply_symmetry(symmetry_coordinate_1, Carbon_Atoms_AU), 'ko')\n",
    "\n",
    "plot_molecule(apply_symmetry(symmetry_coordinate_2, atoms_AU_Bond), 'r')\n",
    "plot_molecule(apply_symmetry(symmetry_coordinate_2, Carbon_Atoms_AU), 'ko')\n",
    "\n",
    "plot_molecule(apply_symmetry(symmetry_coordinate_3, atoms_AU_Bond), 'r')\n",
    "plot_molecule(apply_symmetry(symmetry_coordinate_3, Carbon_Atoms_AU), 'ko')\n",
    "\n",
    "\n",
    "Carbon_Atoms_AU\n",
    "# This should be the last statement before the graph\n",
    "plt.show()\n",
    "\n",
    "# ATTENTION: if picture does not look good, try menu item Cell | All output | Toggle Scrolling\n"
   ]
  }
 ],
 "metadata": {
  "kernelspec": {
   "display_name": "Python 3 (ipykernel)",
   "language": "python",
   "name": "python3"
  },
  "language_info": {
   "codemirror_mode": {
    "name": "ipython",
    "version": 3
   },
   "file_extension": ".py",
   "mimetype": "text/x-python",
   "name": "python",
   "nbconvert_exporter": "python",
   "pygments_lexer": "ipython3",
   "version": "3.9.12"
  }
 },
 "nbformat": 4,
 "nbformat_minor": 2
}
