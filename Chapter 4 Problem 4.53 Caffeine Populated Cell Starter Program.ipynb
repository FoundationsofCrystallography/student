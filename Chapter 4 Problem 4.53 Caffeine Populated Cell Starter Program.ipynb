{
 "cells": [
  {
   "cell_type": "markdown",
   "metadata": {},
   "source": [
    "## Chapter 4 Problem 4.53: Starter Program\n",
    "### Caffeine Populated Unit Cell\n",
    "\n",
    "#### From: M. Julian, [*Foundations of Crystallography with Computer Applications Third Edition*](https://www.crcpress.com/Foundations-of-Crystallography-with-Computer-Applications/Julian/p/book/9781466552913). CRC Press, Taylor & Francis, Boca Raton\n",
    "\n",
    "#### References\n",
    " - See *Chapter 1 Problem 1.09 Starter Program* for installation of Python, Jupyter, Numpy, and Matplotlib\n",
    " - Data Source: Cambridge Structure Database: cafine01"
   ]
  },
  {
   "cell_type": "code",
   "execution_count": null,
   "metadata": {
    "scrolled": true
   },
   "outputs": [],
   "source": [
    "import numpy as np \n",
    "import matplotlib.pyplot as plt  \n",
    "from mpl_toolkits.mplot3d import axis3d\n",
    "np.set_printoptions(precision=4, suppress=True) # suppress means numbers close to zero printed as zero\n",
    "%matplotlib notebook"
   ]
  },
  {
   "cell_type": "code",
   "execution_count": null,
   "metadata": {
    "scrolled": true
   },
   "outputs": [],
   "source": [
    "# Student enter in your own a,b,c, alpha, beta, gamma\n",
    "# Lattice information for the unit cell\n",
    "a = 3.974               # Crystallographic a axis (Å, angstroms)\n",
    "b = 16.751              # Crystallographic b axis (Å, angstroms)\n",
    "c = 14.800              # Crystallographic c axis (Å, angstroms)\n",
    "alpha = 90              # Angle between b and c  (degrees)\n",
    "beta = 95.80            # Angle between a and c  (degrees)\n",
    "gamma = 90              # Angle between a and b  (degrees)\n",
    "\n",
    "# f\"a string {variable}\" prints formatted text with variables inside curly braces {}\n",
    "# : 8.3f  space means left padded with space, 8 characters total width (including .), 3 decimals after periods\n",
    "print(f\"a     = {a: 8.3f} Å\")\n",
    "print(f\"b     = {b: 8.3f} Å\")\n",
    "print(f\"c     = {c: 8.3f} Å\")\n",
    "print(f\"alpha = {alpha: 8.3f} degrees\")\n",
    "print(f\"beta  = {beta: 8.3f} degrees\")\n",
    "print(f\"gamma = {gamma: 8.3f} degrees\")\n",
    "  "
   ]
  },
  {
   "cell_type": "code",
   "execution_count": null,
   "metadata": {
    "scrolled": true
   },
   "outputs": [],
   "source": [
    "def sind(angle_degrees):\n",
    "    \"\"\"sine in degrees\"\"\"  #python \"\"\" string to document functions\n",
    "    angle_radians = np.deg2rad(angle_degrees)\n",
    "    return np.sin(angle_radians)\n",
    "\n",
    "def cosd(angle_degrees):\n",
    "    \"\"\"cosine in degrees\"\"\"\n",
    "    angle_radians = np.deg2rad(angle_degrees)\n",
    "    return np.cos(angle_radians)\n",
    "\n",
    "def initial_axis():\n",
    "    \"\"\"prints the unit cell with a axis red, b axis green, c axis blue\"\"\"\n",
    "    fig = plt.figure()\n",
    "    ax = fig.add_subplot(111, projection='3d')\n",
    "    \n",
    "    # makes sure that projection is not perspective, but orthogonal\n",
    "    ax.set_proj_type('ortho')\n",
    "    \n",
    "    # defines the aspect of the axes in figure space to be equal\n",
    "    ax.set_box_aspect(aspect = (1,1,1))\n",
    "    \n",
    "    # comment to add grid lines\n",
    "    ax.axis('off')\n",
    "    \n",
    "    ax.plot(outline_cartesian[0], outline_cartesian[1], outline_cartesian[2],'k',linewidth=.5)    # plots black outline of cell\n",
    "    ax.plot(outline_red_cartesian[0], outline_red_cartesian[1],outline_red_cartesian[2],'r',linewidth=3)  #plots a axis red\n",
    "    ax.plot(outline_green_cartesian[0], outline_green_cartesian[1],outline_green_cartesian[2],'g',linewidth=3)  #plots b axis green\n",
    "    ax.plot(outline_blue_cartesian[0], outline_blue_cartesian[1], outline_blue_cartesian[2], 'b', linewidth=3)  #plots c axis blue\n",
    "    return ax\n",
    "\n",
    "\n",
    "def cartesian_view(ax, x, y, z):\n",
    "    \"\"\"places 3d camera at x, y, z position looking back at the origin \"\"\"\n",
    "    azimuth = np.rad2deg(np.arctan2(y,x))\n",
    "    elevation = np.rad2deg(np.arctan2(z, np.sqrt(x**2 + y**2)))\n",
    "    ax.view_init(azim=azimuth, elev=elevation)"
   ]
  },
  {
   "cell_type": "code",
   "execution_count": null,
   "metadata": {
    "scrolled": true
   },
   "outputs": [],
   "source": [
    "# Create conversion to cartesian matrix from crystallographic parameters a, b, c and angles alpha, beta, gamma\n",
    "c1 = c * cosd(beta)\n",
    "c2 = (c * cosd(alpha) - cosd(gamma) * cosd(beta)) / sind(gamma)\n",
    "c3 = np.sqrt(abs(c ** 2 - c1 ** 2 - c2 ** 2))\n",
    "\n",
    "\n",
    "conversion_to_cartesian = np.array([\n",
    "       [a, b*cosd(gamma), c1],\n",
    "       [0, b*sind(gamma), c2],\n",
    "       [0, 0,             c3]\n",
    "    ])\n",
    "\n",
    "#print(conversion_to_cartesian)"
   ]
  },
  {
   "cell_type": "code",
   "execution_count": null,
   "metadata": {
    "scrolled": true
   },
   "outputs": [],
   "source": [
    "# 3 dimensional outline represented by a 3 * 16 matrix\n",
    "outline = np.array(\n",
    "    [\n",
    "        [0, 0, 1, 1, 0, 0, 0, 0, 1, 1, 0, 0, 1, 1, 1, 1],\n",
    "        [0, 0, 0, 0, 0, 1, 1, 0, 0, 1, 1, 1, 1, 1, 1, 0],\n",
    "        [0, 1, 1, 0, 0, 0, 1, 1, 1, 1, 1, 0, 0, 1, 0, 0]\n",
    "    ]\n",
    ")\n",
    "\n",
    "outline_cartesian = np.dot(conversion_to_cartesian, outline)\n",
    "\n",
    "# Color a axis red\n",
    "outline_red = np.array(\n",
    "    [\n",
    "        [ 0, 1], # note comma between lists [], []\n",
    "        [ 0, 0],\n",
    "        [ 0, 0]\n",
    "    ]\n",
    ")\n",
    "\n",
    "outline_red_cartesian = np.dot(conversion_to_cartesian, outline_red)\n",
    "\n",
    "# Color b axis green\n",
    "outline_green = np.array(\n",
    "    [\n",
    "        [ 0, 0], # note comma between lists [], []\n",
    "        [ 0, 1],\n",
    "        [ 0, 0]\n",
    "    ]\n",
    ")\n",
    "outline_green_cartesian = np.dot(conversion_to_cartesian, outline_green)\n",
    "\n",
    "# Color c axis blue\n",
    "outline_blue = np.array(\n",
    "    [\n",
    "        [ 0, 0], # note comma between lists [], []\n",
    "        [ 0, 0],\n",
    "        [ 0, 1]\n",
    "    ]\n",
    ")\n",
    "\n",
    "outline_blue_cartesian = np.dot(conversion_to_cartesian, outline_blue)\n",
    "print(outline_blue_cartesian)"
   ]
  },
  {
   "cell_type": "code",
   "execution_count": null,
   "metadata": {},
   "outputs": [],
   "source": [
    "# Now that the unit cell has be completed, the atoms and bond lengths can be inserted and the projections made."
   ]
  },
  {
   "cell_type": "code",
   "execution_count": null,
   "metadata": {
    "scrolled": true
   },
   "outputs": [],
   "source": [
    "# Student: Enter fractional coordinates of asymmetric unit for your crystal from cif\n",
    "# Python dictionaries are defined with curly braces {key1: value1, key2: value2}\n",
    "#   value1 in this case is a python list []\n",
    "atoms_AU ={ \n",
    "    'C1':[ 0.1908, 0.3252, 0.0862],\n",
    "    'C2':[-0.1012, 0.2789, 0.2400],\n",
    "    'C3':[ 0.1349, 0.2466, 0.1040],\n",
    "    'C4':[ 0.1126, 0.3879, 0.1444]\n",
    "        }\n",
    "print(atoms_AU) "
   ]
  },
  {
   "cell_type": "code",
   "execution_count": null,
   "metadata": {
    "scrolled": true
   },
   "outputs": [],
   "source": [
    "# Student: Creation of bond.  Here the molecule is traced by not 'lifting up the pen'.  AU is asymmetric unit\n",
    "atoms_AU_Bond =np.array([\n",
    "    atoms_AU['C2'],\n",
    "    atoms_AU['C3'],\n",
    "    atoms_AU['C4']\n",
    "                        ])\n",
    "\n",
    "print(atoms_AU_Bond)"
   ]
  },
  {
   "cell_type": "code",
   "execution_count": null,
   "metadata": {
    "scrolled": true
   },
   "outputs": [],
   "source": [
    "# Student: Atoms are grouped by element. This is so you can color the individual atoms and control the size. \n",
    "\n",
    "Carbon_Atoms_AU = np.array([\n",
    "    atoms_AU['C1'],\n",
    "    atoms_AU['C2'],\n",
    "    atoms_AU['C3'],\n",
    "    atoms_AU['C4']\n",
    " ])   \n",
    "print(Carbon_Atoms_AU)"
   ]
  },
  {
   "cell_type": "code",
   "execution_count": null,
   "metadata": {
    "scrolled": true
   },
   "outputs": [],
   "source": [
    "# Student. Here are symmetry operations.  Put in your own symmetry operations. \n",
    "# Keep molecules in the unit cell by adding 1 to negative symmetry coordinate such as -x becomes 1-x \n",
    "# For example -x,-y,-z becomes 1-x,1-y,1-z or -x,.5+y, .5-y becomes 1-x,.5+y, .5-y   \n",
    "\n",
    "def symmetry_coordinate_1(a):#identity\n",
    "    x=a[0]\n",
    "    y=a[1]\n",
    "    z=a[2]\n",
    "    return [x,y,z]\n",
    "def symmetry_coordinate_2(a):#inversion\n",
    "    x=a[0]\n",
    "    y=a[1]\n",
    "    z=a[2]\n",
    "    return [1-x, 1-y, 1-z]\n",
    "def symmetry_coordinate_3(a):#screw\n",
    "    x=a[0]\n",
    "    y=a[1]\n",
    "    z=a[2]\n",
    "    return [1-x, .5+y, .5-z]\n"
   ]
  },
  {
   "cell_type": "code",
   "execution_count": null,
   "metadata": {
    "scrolled": true
   },
   "outputs": [],
   "source": [
    "def plot_xyz(a, color):\n",
    "    ax.plot(a[0], a[1], a[2], color)\n",
    "\n",
    "def apply_symmetry(symmetry_function, atoms):\n",
    "    atoms_with_symmetry = np.apply_along_axis(symmetry_function, 1, atoms)\n",
    "    return np.dot(conversion_to_cartesian, atoms_with_symmetry.T)\n",
    "\n",
    "def plot_molecule(points, color, linewidth = 1, markersize = 2):\n",
    "    ax.plot(points[0], points[1], points[2], color,linewidth = linewidth, markersize = markersize)\n",
    "\n"
   ]
  },
  {
   "cell_type": "code",
   "execution_count": null,
   "metadata": {
    "scrolled": false
   },
   "outputs": [],
   "source": [
    "ax = initial_axis() # Creates unit cell with a axis red, b axis green, c axis blue\n",
    "\n",
    "# set camera view along axis\n",
    "along_axis = np.dot(conversion_to_cartesian, [1,0,0])    # a axis\n",
    "# along_axis = np.dot(conversion_to_cartesian, [0,1,0])  # b axis\n",
    "# along_axis = np.dot(conversion_to_cartesian, [0,0,1])  # c axis\n",
    "cartesian_view(ax, along_axis[0], along_axis[1], along_axis[2])\n",
    "\n",
    "#########################################\n",
    "# set x, y and z axis to have the same range\n",
    "#  the range needs to be bigger than the longest unit cell length\n",
    "\n",
    "zoom=15 # z is zoom10, allows control of size of picture, smaller number larger picture\n",
    "ax.set_xlim(0,zoom)\n",
    "ax.set_ylim(0,zoom)\n",
    "ax.set_zlim(0,zoom)\n",
    "\n",
    "    \n",
    "plot_molecule(apply_symmetry(symmetry_coordinate_1, atoms_AU_Bond), 'r', linewidth = .5)\n",
    "plot_molecule(apply_symmetry(symmetry_coordinate_1, Carbon_Atoms_AU), 'ko')\n",
    "\n",
    "plot_molecule(apply_symmetry(symmetry_coordinate_2, atoms_AU_Bond), 'r')\n",
    "plot_molecule(apply_symmetry(symmetry_coordinate_2, Carbon_Atoms_AU), 'ko')\n",
    "\n",
    "plot_molecule(apply_symmetry(symmetry_coordinate_3, atoms_AU_Bond), 'r')\n",
    "plot_molecule(apply_symmetry(symmetry_coordinate_3, Carbon_Atoms_AU), 'ko')\n",
    "\n",
    "Carbon_Atoms_AU\n",
    "# This should be the last statement before the graph\n",
    "plt.show()\n",
    "\n",
    "# ATTENTION: if picture does not look good, try menu item Cell | All output | Toggle Scrolling\n"
   ]
  }
 ],
 "metadata": {
  "kernelspec": {
   "display_name": "Python 3 (ipykernel)",
   "language": "python",
   "name": "python3"
  },
  "language_info": {
   "codemirror_mode": {
    "name": "ipython",
    "version": 3
   },
   "file_extension": ".py",
   "mimetype": "text/x-python",
   "name": "python",
   "nbconvert_exporter": "python",
   "pygments_lexer": "ipython3",
   "version": "3.9.12"
  }
 },
 "nbformat": 4,
 "nbformat_minor": 2
}
