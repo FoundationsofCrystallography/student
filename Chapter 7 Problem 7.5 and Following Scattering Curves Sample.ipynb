{
 "cells": [
  {
   "cell_type": "markdown",
   "metadata": {},
   "source": [
    "## Chapter 7 Problem 7.5 and Following: Sample\n",
    "### Atomic Scattering Curves\n",
    "\n",
    "#### From: M. Julian, [*Foundations of Crystallography with Computer Applications Third Edition*](https://www.crcpress.com/Foundations-of-Crystallography-with-Computer-Applications/Julian/p/book/9781466552913). CRC Press, Taylor & Francis, Boca Raton\n",
    "\n",
    "#### References\n",
    " - See *Chapter 1 Problem 1.09 Starter Program* for installation of Python, Jupyter, Numpy, and Matplotlib\n",
    " \n",
    "#### Purpose: To Graph Atomic Scattering Curves for Multiple Elements from Cromer-Mann coefficients\n",
    "- This example is for bromine and potassium.\n",
    "- The elements can be changed and any number can be added.\n",
    "- Web page for [Cromer-Mann coefficients](https://www.classe.cornell.edu/~dms79/x-rays/f0_CromerMann.txt)"
   ]
  },
  {
   "cell_type": "code",
   "execution_count": null,
   "metadata": {},
   "outputs": [],
   "source": [
    "import numpy as np \n",
    "import matplotlib.pyplot as plt  \n",
    "\n",
    "np.set_printoptions(precision=4, suppress=True) # suppress means numbers close to zero printed as zero"
   ]
  },
  {
   "cell_type": "code",
   "execution_count": null,
   "metadata": {},
   "outputs": [],
   "source": [
    "x = np.arange(0, 10, 0.2)\n",
    "\n",
    "y = np.sin(x)\n",
    "fig, ax = plt.subplots()\n",
    "ax.plot(x, y)\n",
    "plt.show()"
   ]
  },
  {
   "cell_type": "code",
   "execution_count": null,
   "metadata": {},
   "outputs": [],
   "source": [
    "bromine = {\n",
    "    'a': [17.17890,   5.235800,    5.637700,   3.985100],\n",
    "    'b': [ 2.955700,  2.172300,   16.57960,    0.2609000],\n",
    "    'c': 41.43280\n",
    "}\n",
    "\n",
    "potassium = {\n",
    "    'a': [8.218600,   7.439800,   1.051900,      0.8659000],\n",
    "    'b': [1.422800,  12.79490,    0.7748000,   213.1870],\n",
    "    'c': 41.68410\n",
    "}\n",
    "\n",
    "def calculate_one_i(oneA, oneB, x):\n",
    "    return oneA * np.exp(-oneB *  x * x)\n",
    "\n",
    "    \n",
    "def calculate_one_x(oneX, element):\n",
    "    sum = 0\n",
    "    for i in range(0, 4):\n",
    "        sum = sum + calculate_one_i(element['a'][i], element['b'][i], oneX) \n",
    "    \n",
    "    return sum + element['c']\n",
    "\n",
    "def Cromer_Mann_function(xList, element):\n",
    "    resultList = []\n",
    "    for oneX in xList:\n",
    "        resultList.append(calculate_one_x(oneX, element))\n",
    "    return resultList\n",
    "\n",
    "print('\\u03B2') # beta\n",
    "print('\\u03A9') # omega\n",
    "print('\\u03BB') # lambda\n",
    "print('\\u03B8') # theta\n",
    "\n",
    "#Reference: https://pythonforundergradengineers.com/unicode-characters-in-python.html"
   ]
  },
  {
   "cell_type": "code",
   "execution_count": null,
   "metadata": {},
   "outputs": [],
   "source": [
    "x = np.arange(0, .7, 0.0001)\n",
    "fig, ax = plt.subplots()\n",
    "\n",
    "# Add some text for labels, title and custom x-axis tick labels, etc.\n",
    "#plt.set_ylabel('Scores')\n",
    "plt.title('Atomic Scattering Curves for Potassium and Bromine Atoms')\n",
    "plt.ylim(0,80) # Set to largest atomic number +3\n",
    "plt.xlim(0,.7)\n",
    "plt.xlabel(\"sin θ / λ\")\n",
    "plt.ylabel(\"f, Atomic Scattering Factor, electrons\")\n",
    "#ax.set_xticks(x)\n",
    "#ax.set_xticklabels(labels)\n",
    "#ax.legend()\n",
    "\n",
    "\n",
    "#fig, ax = plt.subplots()\n",
    "y = Cromer_Mann_function(x, potassium)\n",
    "ax.plot(x, y,'-g',label='potassium')\n",
    "y = Cromer_Mann_function(x, bromine)\n",
    "ax.plot(x, y,'r',label='bromine')\n",
    "plt.legend();\n",
    "\n",
    "plt.show()"
   ]
  },
  {
   "cell_type": "markdown",
   "metadata": {},
   "source": [
    "#### Example for bromine\n",
    "- From https://www.classe.cornell.edu/~dms79/x-rays/f0_CromerMann.txt\n",
    "- Find Br\n",
    "- Data\n",
    "\n",
    "    S 35 Br  \n",
    "    N 9\n",
    "    L a1  a2  a3  a4  c  b1  b2  b3 \n",
    "    17.17890   5.235800   5.637700   3.985100   2.955700  2.172300   16.57960   0.2609000  41.43280\n",
    "\n",
    "#### Example for potassium\n",
    "- Find K\n",
    "- Data\n",
    "\n",
    "    S 19 K   \n",
    "    N 9\n",
    "    L a1  a2  a3  a4  c  b1  b2  b3  b4\n",
    "    8.218600   7.439800   1.051900   0.8659000   1.422800  12.79490   0.7748000   213.1870  41.68410"
   ]
  }
 ],
 "metadata": {
  "kernelspec": {
   "display_name": "Python 3 (ipykernel)",
   "language": "python",
   "name": "python3"
  },
  "language_info": {
   "codemirror_mode": {
    "name": "ipython",
    "version": 3
   },
   "file_extension": ".py",
   "mimetype": "text/x-python",
   "name": "python",
   "nbconvert_exporter": "python",
   "pygments_lexer": "ipython3",
   "version": "3.9.12"
  }
 },
 "nbformat": 4,
 "nbformat_minor": 2
}
