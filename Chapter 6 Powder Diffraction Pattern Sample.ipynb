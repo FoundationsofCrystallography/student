{
 "cells": [
  {
   "cell_type": "markdown",
   "metadata": {},
   "source": [
    "## Chapter 6: Sample Program\n",
    "### Powder Diffraction Pattern\n",
    "\n",
    "#### From: M. Julian, [*Foundations of Crystallography with Computer Applications Third Edition*](https://www.crcpress.com/Foundations-of-Crystallography-with-Computer-Applications/Julian/p/book/9781466552913). CRC Press, Taylor & Francis, Boca Raton\n",
    "\n",
    "#### References\n",
    " - See *Chapter 1 Problem 1.09 Starter Program* for installation of Python, Jupyter, Numpy, and Matplotlib"
   ]
  },
  {
   "cell_type": "code",
   "execution_count": null,
   "metadata": {},
   "outputs": [],
   "source": [
    "import numpy as np \n",
    "import matplotlib.pyplot as plt  \n",
    "from mpl_toolkits.mplot3d import axis3d\n",
    "np.set_printoptions(precision=4, suppress=True) # suppress means numbers close to zero printed as zero \n",
    "%matplotlib notebook "
   ]
  },
  {
   "cell_type": "code",
   "execution_count": null,
   "metadata": {},
   "outputs": [],
   "source": [
    "a = 3.974               # Crystallographic a axis (Å, angstroms)\n",
    "b = 16.751              # Crystallographic b axis (Å, angstroms)\n",
    "c = 14.800              # Crystallographic c axis (Å, angstroms)\n",
    "alpha = 90              # Angle between b and c  (degrees)\n",
    "beta  = 95.80           # Angle between a and c  (degrees)\n",
    "gamma = 90              # Angle between a and b  (degrees)\n",
    "\n",
    "Lambda = 1.54           # Wavelength of x-rays\n",
    "\n",
    "\n",
    "# f\"a string {variable}\" prints formatted text with variables inside curly braces {}\n",
    "# : 8.3f  space means left padded with space, 8 characters total width (including .), 3 decimals after periods\n",
    "print(f\"a     = {a: 8.3f} Å\")\n",
    "print(f\"b     = {b: 8.3f} Å\")\n",
    "print(f\"c     = {c: 8.3f} Å\")\n",
    "print(f\"alpha = {alpha: 8.3f} degrees\")\n",
    "print(f\"beta  = {beta: 8.3f} degrees\")\n",
    "print(f\"gamma = {gamma: 8.3f} degrees\")"
   ]
  },
  {
   "cell_type": "code",
   "execution_count": null,
   "metadata": {},
   "outputs": [],
   "source": [
    "h = 1\n",
    "k = 0\n",
    "l = -1\n",
    "reflections = [\n",
    "    {'h': 1, 'k': 0, 'l': 0, 'intensity': 80},\n",
    "    {'h': 0, 'k': 1, 'l': 0, 'intensity': 90},\n",
    "    {'h': -1, 'k': 1, 'l': 0, 'intensity': 80},\n",
    "]\n"
   ]
  },
  {
   "cell_type": "code",
   "execution_count": null,
   "metadata": {},
   "outputs": [],
   "source": [
    "def sind(angle_degrees):\n",
    "    \"\"\"sine in degrees\"\"\"  #python \"\"\" string to document functions\n",
    "    angle_radians = np.deg2rad(angle_degrees)\n",
    "    return np.sin(angle_radians)\n",
    "\n",
    "def cosd(angle_degrees):\n",
    "    \"\"\"cosine in degrees\"\"\"\n",
    "    angle_radians = np.deg2rad(angle_degrees)\n",
    "    return np.cos(angle_radians)\n",
    "\n",
    "def create_default_plot():\n",
    "    \"\"\"default plot configured for crystallography\"\"\"\n",
    "    fig = plt.figure()\n",
    "    ax = fig.add_subplot(111, projection='3d')\n",
    "    ax.set_proj_type('ortho')\n",
    "    ax.axis('equal')\n",
    "    ax.axis('off')\n",
    "    return ax\n",
    "    \n",
    "def calculate_G_matrix(a,b,c,alpha,beta,gamma):\n",
    "    return np.array([\n",
    "           [a*a,             a*b*cosd(gamma), a*c*cosd(beta)],\n",
    "           [a*b*cosd(gamma), b*b,             b*c*cosd(alpha)],\n",
    "           [a*c*cosd(beta),  b*c*cosd(alpha), c*c]\n",
    "        ])\n",
    "\n",
    "\n",
    "def calculate_G_star(G_matrix):\n",
    "    return np.linalg.inv(G_matrix)\n",
    "    \n",
    "\n",
    "\n",
    "def calculate_d_spacings(h,k,l,G_star):\n",
    "    H = np.array([h,k,l])\n",
    "    D = np.linalg.multi_dot([H,G_star,H.T])\n",
    "    return np.sqrt(1/D)\n",
    "\n",
    "def calculate_two_theta(Lambda, d_spacing):\n",
    "    return 2*np.rad2deg(np.arcsin(Lambda/(2*d_spacing)))"
   ]
  },
  {
   "cell_type": "code",
   "execution_count": null,
   "metadata": {},
   "outputs": [],
   "source": [
    "G_matrix = calculate_G_matrix(a,b,c,alpha,beta,gamma)  \n",
    "\n",
    "print(G_matrix)\n",
    "\n",
    "G_star = calculate_G_star(G_matrix)\n",
    "\n",
    "print(G_star)\n",
    "\n",
    "print()\n",
    "\n",
    "print('all reflections  h k l intensity two_theta')\n",
    "for reflection in reflections:\n",
    "    d_spacing = calculate_d_spacings(reflection['h'],reflection['k'],reflection['l'],G_star)\n",
    "    reflection['two_theta'] = calculate_two_theta(Lambda, d_spacing)\n",
    "    print(reflection)"
   ]
  },
  {
   "cell_type": "code",
   "execution_count": null,
   "metadata": {},
   "outputs": [],
   "source": [
    "# Create lists x, y from fields in reflection\n",
    "x = []\n",
    "y = []\n",
    "for reflection in reflections:\n",
    "    x.append(reflection['two_theta'])\n",
    "    y.append(reflection['intensity'])\n",
    "\n",
    "# Draw bars located at positions x with height y.  Make the width narrow\n",
    "plt.bar(x, y, width=0.1)\n",
    "\n",
    "# Add label for xy tuple at xyLabelPosition tuple\n",
    "for reflection in reflections:\n",
    "    label = f\"{reflection['h']} {reflection['k']} {reflection['l']}\"\n",
    "    xy = (reflection['two_theta'], reflection['intensity'])\n",
    "    xy_label_position = (reflection['two_theta'], reflection['intensity'] + 15)\n",
    "    plt.annotate(label, xy, xy_label_position, rotation=90)\n",
    "\n",
    "plt.xlabel('2 theta')\n",
    "plt.ylabel('Intensity')\n",
    "\n",
    "plt.title('Powder Diffraction Pattern')\n",
    "\n",
    "\n",
    "# Set y axis to be big enough to include label\n",
    "plt.ylim(0, 120)\n",
    "\n",
    "plt.show()"
   ]
  }
 ],
 "metadata": {
  "kernelspec": {
   "display_name": "Python 3 (ipykernel)",
   "language": "python",
   "name": "python3"
  },
  "language_info": {
   "codemirror_mode": {
    "name": "ipython",
    "version": 3
   },
   "file_extension": ".py",
   "mimetype": "text/x-python",
   "name": "python",
   "nbconvert_exporter": "python",
   "pygments_lexer": "ipython3",
   "version": "3.9.12"
  }
 },
 "nbformat": 4,
 "nbformat_minor": 2
}
