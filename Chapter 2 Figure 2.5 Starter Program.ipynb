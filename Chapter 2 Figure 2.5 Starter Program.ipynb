{
 "cells": [
  {
   "cell_type": "markdown",
   "metadata": {},
   "source": [
    "## Chapter 2 Figure 2.5: Starter Program\n",
    "### Hexamethlbenzene $C_{12}H_{18}$ with Carbon Atoms and Bonds\n",
    "\n",
    "#### From: M. Julian, [*Foundations of Crystallography with Computer Applications Third Edition*](https://www.crcpress.com/Foundations-of-Crystallography-with-Computer-Applications/Julian/p/book/9781466552913). CRC Press, Taylor & Francis, Boca Raton\n",
    "\n",
    "#### References\n",
    " - See *Chapter 1 Problem 1.09 Starter Program* for installation of Python, Jupyter, Numpy, and Matplotlib\n",
    " - See Python hints at the end of this notebook\n",
    " \n",
    " - [K. Lonsdale, X-ray evidence of the Structure of the Benzene Nucleus](https://pubs.rsc.org/en/content/articlelanding/1929/tf/tf9292500352#!divAbstract)"
   ]
  },
  {
   "cell_type": "code",
   "execution_count": null,
   "metadata": {},
   "outputs": [],
   "source": [
    "import numpy as np               \n",
    "import matplotlib.pyplot as plt \n",
    "np.set_printoptions(precision=4, suppress=True) # suppress means numbers close to zero printed as zero"
   ]
  },
  {
   "cell_type": "code",
   "execution_count": null,
   "metadata": {},
   "outputs": [],
   "source": [
    "a = 9.010             # Crystallographic a axis (Å)\n",
    "b = 8.926             # Crystallographic b axis (Å)\n",
    "gamma = 119.567       # Angle between a and b  (degrees)\n",
    "\n",
    "# f\"a string {variable}\" prints formatted text with variables inside curly braces {}\n",
    "# : 8.3f  space means left padded with space, 8 characters total width (including .), 3 decimals after periods\n",
    "print(f\"a     = {a: 8.3f} Å\")\n",
    "print(f\"b     = {b: 8.3f} Å\")\n",
    "print(f\"gamma = {gamma: 8.3f} degrees\")"
   ]
  },
  {
   "cell_type": "code",
   "execution_count": null,
   "metadata": {},
   "outputs": [],
   "source": [
    "outline = np.array(\n",
    "    [\n",
    "        [0, 1, 1, 0, 0],\n",
    "        [0, 0, 1, 1, 0]\n",
    "    ]\n",
    ")\n",
    "print(outline)\n",
    "   "
   ]
  },
  {
   "cell_type": "code",
   "execution_count": null,
   "metadata": {},
   "outputs": [],
   "source": [
    "gamma_radians = np.deg2rad(gamma)\n",
    "\n",
    "conversion_to_cartesian = np.array(\n",
    "   [\n",
    "      [a, b * np.cos(gamma_radians)],\n",
    "      [0, b * np.sin(gamma_radians)]\n",
    "   ]\n",
    ")\n",
    "print(conversion_to_cartesian)"
   ]
  },
  {
   "cell_type": "code",
   "execution_count": null,
   "metadata": {},
   "outputs": [],
   "source": [
    "outline_cartesian = np.dot(conversion_to_cartesian, outline)\n",
    "\n",
    "print(outline_cartesian)"
   ]
  },
  {
   "cell_type": "code",
   "execution_count": null,
   "metadata": {},
   "outputs": [],
   "source": [
    "plt.axis('equal')\n",
    "plt.axis('off')\n",
    "\n",
    "# Draw outline of cell in black\n",
    "plt.plot(outline_cartesian[0], outline_cartesian[1],'k',linewidth=.5) \n",
    "\n",
    "# Color a axis red\n",
    "outline_red = np.array(\n",
    "    [\n",
    "        [ 0, 1], # note comma between lists [], []\n",
    "        [ 0, 0]\n",
    "    ]\n",
    ")\n",
    "\n",
    "outline_red_cartesian = np.dot(conversion_to_cartesian, outline_red)\n",
    "  \n",
    "plt.plot(outline_red_cartesian[0], outline_red_cartesian[1],'r',linewidth=3)\n",
    "\n",
    "# Color b axis green\n",
    "outline_green = np.array(\n",
    "    [\n",
    "        [ 0, 0], # note comma between lists [], []\n",
    "        [ 0, 1]\n",
    "    ]\n",
    ")\n",
    "\n",
    "outline_green_cartesian = np.dot(conversion_to_cartesian, outline_green)\n",
    "  \n",
    "plt.plot(outline_green_cartesian[0], outline_green_cartesian[1],'g',linewidth=3)\n",
    "plt.show()\n"
   ]
  },
  {
   "cell_type": "markdown",
   "metadata": {},
   "source": [
    "#### Adding carbon atoms in fractional coordinates"
   ]
  },
  {
   "cell_type": "code",
   "execution_count": null,
   "metadata": {},
   "outputs": [],
   "source": [
    "# Python dictionaries are defined with curly braces {key1: value1, key2: value2}\n",
    "#   value1 in this case is a python list []\n",
    "\n",
    "# Student: Complete the additional 9 atoms\n",
    "\n",
    "atom = {\n",
    "    'A': [ 0.071,  0.182],\n",
    "    'B': [-0.109,  0.072],\n",
    "    'C': [-0.180, -0.109] \n",
    "}\n",
    "\n",
    "# Student: Complete the table\n",
    "carbon = np.array([\n",
    "    atom['A'],\n",
    "    atom['B'],\n",
    "    atom['C']   \n",
    "])\n",
    "print(carbon)"
   ]
  },
  {
   "cell_type": "code",
   "execution_count": null,
   "metadata": {},
   "outputs": [],
   "source": [
    "# Calling member function T of np.array transposes a matrix\n",
    "carbon.T"
   ]
  },
  {
   "cell_type": "code",
   "execution_count": null,
   "metadata": {
    "scrolled": true
   },
   "outputs": [],
   "source": [
    "carbon_cartesian = np.dot(conversion_to_cartesian, carbon.T)\n",
    "print(carbon_cartesian)"
   ]
  },
  {
   "cell_type": "code",
   "execution_count": null,
   "metadata": {},
   "outputs": [],
   "source": [
    "plt.axis('off')\n",
    "plt.axis('equal')     \n",
    "\n",
    "plt.plot(outline_cartesian[0], outline_cartesian[1],'k',linewidth=.5)\n",
    "plt.plot(outline_red_cartesian[0], outline_red_cartesian[1],'r',linewidth=3)\n",
    "plt.plot(outline_green_cartesian[0], outline_green_cartesian[1],'g',linewidth=3)\n",
    "\n",
    "# ro makes red dots\n",
    "plt.plot(carbon_cartesian[0], carbon_cartesian[1], 'ro')\n",
    "\n",
    "\n",
    "plt.show()"
   ]
  },
  {
   "cell_type": "code",
   "execution_count": null,
   "metadata": {},
   "outputs": [],
   "source": [
    "# Center the carbon atoms within the unit cell\n",
    "\n",
    "# Implicit use of universal function np.add which adds .5 to every element of the matrix carbon\n",
    "carbon_centered = carbon + 0.5\n",
    "print(carbon_centered)"
   ]
  },
  {
   "cell_type": "code",
   "execution_count": null,
   "metadata": {},
   "outputs": [],
   "source": [
    "carbon_centered_cartesian = np.dot(conversion_to_cartesian, carbon_centered.T)\n",
    "print(carbon_centered_cartesian)"
   ]
  },
  {
   "cell_type": "code",
   "execution_count": null,
   "metadata": {},
   "outputs": [],
   "source": [
    "plt.axis('equal')     \n",
    "plt.axis('off')\n",
    "plt.plot(outline_cartesian[0], outline_cartesian[1],'k',linewidth=.5)\n",
    "plt.plot(outline_red_cartesian[0], outline_red_cartesian[1],'r',linewidth=3)\n",
    "plt.plot(outline_green_cartesian[0], outline_green_cartesian[1],'g',linewidth=3)\n",
    "\n",
    "plt.plot(carbon_centered_cartesian[0], carbon_centered_cartesian[1], 'ro') \n",
    "\n",
    "plt.show()"
   ]
  },
  {
   "cell_type": "markdown",
   "metadata": {},
   "source": [
    "#### Adding carbon bonds in fractional coordinates"
   ]
  },
  {
   "cell_type": "code",
   "execution_count": null,
   "metadata": {},
   "outputs": [],
   "source": [
    "# Student: Create a path that traces the bonds\n",
    "bonds = np.array([\n",
    "    atom['A'],\n",
    "    atom['B'],\n",
    "    atom['C'],\n",
    "])\n",
    "\n",
    "print(bonds)"
   ]
  },
  {
   "cell_type": "code",
   "execution_count": null,
   "metadata": {},
   "outputs": [],
   "source": [
    "# Also recenter bonds within unit cell\n",
    "bonds_cartesian = np.dot(conversion_to_cartesian, (bonds + 0.5).T)\n",
    "print(bonds_cartesian)"
   ]
  },
  {
   "cell_type": "code",
   "execution_count": null,
   "metadata": {},
   "outputs": [],
   "source": [
    "plt.title('Hexamethlbenzene unit cell')\n",
    "plt.axis('equal')     \n",
    "plt.axis('off')\n",
    "plt.xticks([]) \n",
    "plt.yticks([])\n",
    "\n",
    "plt.plot(outline_cartesian[0], outline_cartesian[1],\"k\",linewidth=.5)\n",
    "plt.plot(outline_red_cartesian[0], outline_red_cartesian[1],'r',linewidth=3)\n",
    "plt.plot(outline_green_cartesian[0], outline_green_cartesian[1],'g',linewidth=3)\n",
    "\n",
    "# plt.text(-3, 3.5, 'b')\n",
    "\n",
    "# Add bonds\n",
    "plt.plot(bonds_cartesian[0], bonds_cartesian[1],'k',linewidth=3) \n",
    "\n",
    "# Add atoms\n",
    "plt.plot(carbon_centered_cartesian[0], carbon_centered_cartesian[1], 'ro', markersize=20) # Control over size of atoms\n",
    "\n",
    "# Label individual atoms,\n",
    "# plt.text(carbon_centered_cartesian[0], carbon_centered_cartesian[1],'A')\n",
    "\n",
    "\n",
    "plt.show()"
   ]
  },
  {
   "cell_type": "markdown",
   "metadata": {},
   "source": [
    "### Python hints\n",
    "\n",
    "#### Review basic [python](www.python.org) data types:\n",
    "- [] is a list, passed to nd.array\n",
    "- {key1: value1, key2: value2} is a dictionary to define atoms\n",
    "- (value1, value2) is a tuple  --- returned by the shape member function as in outline.shape\n",
    "\n",
    "#### Review [numpy](https://docs.scipy.org/doc/numpy/user/quickstart.html) functions:\n",
    "- .T transpose\n",
    "- dot\n",
    "- [:, 0] slicing a matrix \n",
    "\n"
   ]
  }
 ],
 "metadata": {
  "kernelspec": {
   "display_name": "Python 3 (ipykernel)",
   "language": "python",
   "name": "python3"
  },
  "language_info": {
   "codemirror_mode": {
    "name": "ipython",
    "version": 3
   },
   "file_extension": ".py",
   "mimetype": "text/x-python",
   "name": "python",
   "nbconvert_exporter": "python",
   "pygments_lexer": "ipython3",
   "version": "3.9.12"
  }
 },
 "nbformat": 4,
 "nbformat_minor": 2
}
