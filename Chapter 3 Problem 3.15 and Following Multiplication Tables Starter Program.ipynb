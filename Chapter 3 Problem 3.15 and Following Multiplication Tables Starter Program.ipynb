{
 "cells": [
  {
   "cell_type": "markdown",
   "metadata": {},
   "source": [
    "## Chapter 3 Problem 3.15 and Following: Starter Program\n",
    "### Multiplication Tables \n",
    "\n",
    "#### From: M. Julian, [*Foundations of Crystallography with Computer Applications Third Edition*](https://www.crcpress.com/Foundations-of-Crystallography-with-Computer-Applications/Julian/p/book/9781466552913). CRC Press, Taylor & Francis, Boca Raton\n",
    "\n",
    "#### To the Students\n",
    "1. Complete formatting of multiplication table -- See instructions\n",
    "\n",
    "\n",
    "#### References\n",
    " - See *Chapter 1 Problem 1.09 Starter Program* for installation of Python, Jupyter, Numpy, and Matplotlib"
   ]
  },
  {
   "cell_type": "code",
   "execution_count": null,
   "metadata": {},
   "outputs": [],
   "source": [
    " import numpy as np"
   ]
  },
  {
   "cell_type": "code",
   "execution_count": null,
   "metadata": {},
   "outputs": [],
   "source": [
    "# Student:  Example shows matrices for point group 3.  Put matrices for crystal under discussion. \n",
    "#   2x2 for two dimensions, \n",
    "#   3x3 for three dimensions.\n",
    "\n",
    "matrix_dictionary = {\n",
    "  '1': np.array([\n",
    "         [1,0],\n",
    "         [0,1]\n",
    "        ]),\n",
    "  '3-': np.array([\n",
    "         [-1,1],\n",
    "         [-1,0]\n",
    "        ]),\n",
    "  '3+': np.array([\n",
    "         [0,-1],\n",
    "         [1,-1]\n",
    "        ]),\n",
    "}\n",
    "\n",
    "def find_matrix_name(given_matrix):\n",
    "    \"\"\"given a matrix, find its name\"\"\"\n",
    "    \n",
    "    # Look through all matrices in dictionary and if the given matrix is same as found matrix, return its name\n",
    "    for matrix_name, matrix in matrix_dictionary.items():\n",
    "        if given_matrix.tobytes() == matrix.tobytes():\n",
    "            return matrix_name\n",
    "        \n",
    "    return \"No matrix found\""
   ]
  },
  {
   "cell_type": "code",
   "execution_count": null,
   "metadata": {},
   "outputs": [],
   "source": [
    "# Just display answer to multiplying matrices together\n",
    "\n",
    "for matrix in matrix_dictionary.values():\n",
    "    for matrix2 in matrix_dictionary.values():\n",
    "        matrix_product = np.dot(matrix, matrix2)\n",
    "        \n",
    "        matrix_product_name = find_matrix_name(matrix_product)\n",
    "        \n",
    "        print(f\"{matrix_product_name:5} \", end='')\n",
    "        \n",
    "    print()"
   ]
  },
  {
   "cell_type": "code",
   "execution_count": null,
   "metadata": {},
   "outputs": [],
   "source": [
    "# Just display answer to multiplying matrices together with inputs displayed\n",
    "\n",
    "\n",
    "print('        ', end='')\n",
    "for matrix_name, matrix in matrix_dictionary.items():\n",
    "    print(f\"{matrix_name:5} \", end='')\n",
    "print()\n",
    "\n",
    "print('      ', end='')\n",
    "for matrix_name, matrix in matrix_dictionary.items():\n",
    "    print('_____', end='')\n",
    "print('_____')\n",
    "\n",
    "for matrix_name, matrix in matrix_dictionary.items():\n",
    "    print(f\"{matrix_name:5} | \", end='')\n",
    "        \n",
    "    for matrix_name2, matrix2 in matrix_dictionary.items():\n",
    "        matrix_product = np.dot(matrix, matrix2)\n",
    "        \n",
    "        matrix_product_name = find_matrix_name(matrix_product)\n",
    "        \n",
    "        print(f\"{matrix_product_name:5} \", end='')\n",
    "        \n",
    "    print()\n",
    "  \n",
    "\n"
   ]
  },
  {
   "cell_type": "code",
   "execution_count": null,
   "metadata": {},
   "outputs": [],
   "source": [
    "# In this case it is simple enough to name symmetry elements.  See instructions for more complex point groups."
   ]
  }
 ],
 "metadata": {
  "kernelspec": {
   "display_name": "Python 3 (ipykernel)",
   "language": "python",
   "name": "python3"
  },
  "language_info": {
   "codemirror_mode": {
    "name": "ipython",
    "version": 3
   },
   "file_extension": ".py",
   "mimetype": "text/x-python",
   "name": "python",
   "nbconvert_exporter": "python",
   "pygments_lexer": "ipython3",
   "version": "3.9.12"
  }
 },
 "nbformat": 4,
 "nbformat_minor": 2
}
