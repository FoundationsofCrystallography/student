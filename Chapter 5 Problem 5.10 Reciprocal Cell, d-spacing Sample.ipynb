{
 "cells": [
  {
   "cell_type": "markdown",
   "metadata": {},
   "source": [
    "# Chapter 5 Problem 5.10: Sample\n",
    "### Reciprocal Lattice\n",
    "\n",
    "#### From: M. Julian, [*Foundations of Crystallography with Computer Applications Third Edition*](https://www.crcpress.com/Foundations-of-Crystallography-with-Computer-Applications/Julian/p/book/9781466552913). CRC Press, Taylor & Francis, Boca Raton\n",
    "\n",
    "#### References\n",
    " - See *Chapter 1 Problem 1.09 Starter Program* for installation of Python, Jupyter, Numpy, and Matplotlib"
   ]
  },
  {
   "cell_type": "code",
   "execution_count": null,
   "metadata": {},
   "outputs": [],
   "source": [
    "import numpy as np \n",
    "import matplotlib.pyplot as plt  \n",
    "from mpl_toolkits.mplot3d import axis3d\n",
    "from numpy.linalg import multi_dot\n",
    "np.set_printoptions(precision=4, suppress=True) # suppress means numbers close to zero printed as zero\n",
    "%matplotlib notebook "
   ]
  },
  {
   "cell_type": "code",
   "execution_count": null,
   "metadata": {},
   "outputs": [],
   "source": [
    "a = 3.974               # Crystallographic a axis (Å, angstroms)\n",
    "b = 16.751              # Crystallographic b axis (Å, angstroms)\n",
    "c = 14.800              # Crystallographic c axis (Å, angstroms)\n",
    "alpha = 90              # Angle between b and c  (degrees)\n",
    "beta  = 95.80           # Angle between a and c  (degrees)\n",
    "gamma = 90              # Angle between a and b  (degrees)\n",
    "h=1\n",
    "k=1\n",
    "l=1 # Indices for calculating d-spacings\n",
    "H = np.array([\n",
    "           [h, k, l ]\n",
    "        ])\n",
    "print(H)"
   ]
  },
  {
   "cell_type": "code",
   "execution_count": null,
   "metadata": {},
   "outputs": [],
   "source": [
    "def sind(angle_degrees):\n",
    "    \"\"\"sine in degrees\"\"\"  #python \"\"\" string to document functions\n",
    "    angle_radians = np.deg2rad(angle_degrees)\n",
    "    return np.sin(angle_radians)\n",
    "\n",
    "def cosd(angle_degrees):\n",
    "    \"\"\"cosine in degrees\"\"\"\n",
    "    angle_radians = np.deg2rad(angle_degrees)\n",
    "    return np.cos(angle_radians)\n",
    "\n",
    "def create_default_plot():\n",
    "    \"\"\"default plot configured for crystallography\"\"\"\n",
    "    fig = plt.figure()\n",
    "    ax = fig.add_subplot(111, projection='3d')\n",
    "    \n",
    "    # makes sure that projection is not perspective, but orthogonal\n",
    "    ax.set_proj_type('ortho')\n",
    "    \n",
    "    # defines the aspect of the axes in figure space to be equal\n",
    "    ax.set_box_aspect(aspect = (1,1,1))\n",
    "    \n",
    "    # comment to add grid lines\n",
    "    ax.axis('off')\n",
    "    return ax\n",
    "\n",
    "# Next function allows us to color the cell outline i.e. direct cell outline can be different from reciprocal cell outline\n",
    "    \n",
    "def draw_unit_cell(ax, outline_cartesian, outline_red_cartesian, outline_green_cartesian, outline_blue_cartesian,color):\n",
    "    ax.plot(outline_cartesian[0], outline_cartesian[1], outline_cartesian[2],color,linewidth=.5)    # plots black outline of cell\n",
    "    ax.plot(outline_red_cartesian[0], outline_red_cartesian[1],outline_red_cartesian[2],'r',linewidth=1)  #plots a axis red\n",
    "    ax.plot(outline_green_cartesian[0], outline_green_cartesian[1],outline_green_cartesian[2],'g',linewidth=1)  #plots b axis green\n",
    "    ax.plot(outline_blue_cartesian[0], outline_blue_cartesian[1],outline_blue_cartesian[2],'b',linewidth=1)  #plots c axis blue\n",
    "\n",
    "\n",
    "def calculate_G_matrix(a,b,c,alpha,beta,gamma):\n",
    "        return np.array([\n",
    "           [a*a,             a*b*cosd(gamma), a*c*cosd(beta)],\n",
    "           [a*b*cosd(gamma), b*b,             b*c*cosd(alpha)],\n",
    "           [a*c*cosd(beta),  b*c*cosd(alpha), c*c]\n",
    "        ])\n",
    "\n",
    "def calculate_conversion_to_cartesian(a,b,c,alpha,beta,gamma):\n",
    "    c1 = c * cosd(beta)\n",
    "    c2 = (c * cosd(alpha) - cosd(gamma) * cosd(beta)) / sind(gamma)\n",
    "    c3 = np.sqrt(abs(c ** 2 - c1 ** 2 - c2 ** 2))\n",
    "    return np.array([\n",
    "       [a, b*cosd(gamma), c1],\n",
    "       [0, b*sind(gamma), c2],\n",
    "       [0, 0,             c3]\n",
    "    ])\n",
    "\n",
    "\n",
    "def calculate_volume(G_matrix):\n",
    "    return np.sqrt(np.linalg.det(G_matrix))\n"
   ]
  },
  {
   "cell_type": "code",
   "execution_count": null,
   "metadata": {},
   "outputs": [],
   "source": [
    "# Create conversion to cartesian matrix from crystallographic parameters a, b, c and angles alpha, beta, gamma\n",
    "c1 = c * cosd(beta)\n",
    "c2 = (c * cosd(alpha) - cosd(gamma) * cosd(beta)) / sind(gamma)\n",
    "c3 = abs(np.sqrt(c ** 2 - c1 ** 2 - c2 ** 2))\n",
    "\n",
    "\n",
    "conversion_to_cartesian = np.array([\n",
    "       [a, b*cosd(gamma), c1],\n",
    "       [0, b*sind(gamma), c2],\n",
    "       [0, 0,             c3]\n",
    "    ])\n",
    "\n",
    "print(conversion_to_cartesian)"
   ]
  },
  {
   "cell_type": "code",
   "execution_count": null,
   "metadata": {},
   "outputs": [],
   "source": [
    "# 3 dimensional outline represented by a 3 * 16 matrix\n",
    "outline = np.array(\n",
    "    [\n",
    "        [0, 0, 1, 1, 0, 0, 0, 0, 1, 1, 0, 0, 1, 1, 1, 1],\n",
    "        [0, 0, 0, 0, 0, 1, 1, 0, 0, 1, 1, 1, 1, 1, 1, 0],\n",
    "        [0, 1, 1, 0, 0, 0, 1, 1, 1, 1, 1, 0, 0, 1, 0, 0]\n",
    "    ]\n",
    ")\n",
    "\n",
    "outline_cartesian = np.dot(conversion_to_cartesian, outline)\n",
    "\n",
    "# Color a axis red\n",
    "outline_red = np.array(\n",
    "    [\n",
    "        [ 0, 1], # note comma between lists [], []\n",
    "        [ 0, 0],\n",
    "        [ 0, 0]\n",
    "    ]\n",
    ")\n",
    "\n",
    "outline_red_cartesian = np.dot(conversion_to_cartesian, outline_red)\n",
    "\n",
    "# Color b axis green\n",
    "outline_green = np.array(\n",
    "    [\n",
    "        [ 0, 0], # note comma between lists [], []\n",
    "        [ 0, 1],\n",
    "        [ 0, 0]\n",
    "    ]\n",
    ")\n",
    "outline_green_cartesian = np.dot(conversion_to_cartesian, outline_green)\n",
    "\n",
    "# Color c axis blue\n",
    "outline_blue = np.array(\n",
    "    [\n",
    "        [ 0, 0], # note comma between lists [], []\n",
    "        [ 0, 0],\n",
    "        [ 0, 1]\n",
    "    ]\n",
    ")\n",
    "\n",
    "outline_blue_cartesian = np.dot(conversion_to_cartesian, outline_blue)\n",
    "print(outline_blue_cartesian)"
   ]
  },
  {
   "cell_type": "code",
   "execution_count": null,
   "metadata": {},
   "outputs": [],
   "source": [
    "# To the student\n",
    "#  1) the G-star matrix is calculated from the G-matrix\n",
    "#  2) the scalar magnitudes of the reciprocal lattice vectors and the reciprocal angles of the reciprocal unit cell are calculated."
   ]
  },
  {
   "cell_type": "code",
   "execution_count": null,
   "metadata": {},
   "outputs": [],
   "source": [
    "#G matrix\n",
    "\n",
    "G_matrix = calculate_G_matrix(a,b,c,alpha,beta,gamma)\n",
    "G_star = np.linalg.inv(G_matrix)"
   ]
  },
  {
   "cell_type": "code",
   "execution_count": null,
   "metadata": {
    "scrolled": true
   },
   "outputs": [],
   "source": [
    "volume = calculate_volume(G_matrix)\n",
    "volume_star= 1/volume"
   ]
  },
  {
   "cell_type": "code",
   "execution_count": null,
   "metadata": {},
   "outputs": [],
   "source": [
    "# Reference: https://thispointer.com/python-nusmpy-select-rows-columns-by-index-from-a-2d-ndarray-multi-dimension/\n",
    "\n",
    "a_star_squared = G_star[0][0]\n",
    "a_star = np.sqrt(a_star_squared)\n",
    "b_star_squared = G_star[1][1]\n",
    "b_star = np.sqrt(b_star_squared)\n",
    "c_star_squared = G_star[2][2]\n",
    "c_star = np.sqrt(c_star_squared)\n",
    "a_star_b_star_cos_gamma_star= G_star[0][1]\n",
    "ab_star = a_star*b_star\n",
    "cos_gamma_star = [a_star_b_star_cos_gamma_star /ab_star]\n",
    "gamma_star = np.arccos(cos_gamma_star)\n",
    "\n",
    "\n",
    "print(f\"a_star equals {a_star: .4E} angstroms inverse\")\n",
    "print(f\"b_star equals {b_star: .4E} angstroms inverse\")\n",
    "print(f\"c_star equals {c_star: .4E} angstroms inverse\")"
   ]
  },
  {
   "cell_type": "code",
   "execution_count": null,
   "metadata": {},
   "outputs": [],
   "source": [
    "# 1) Normalize scale calculated\n",
    "# 2) Normalize scale applied to direct lattice constants\n",
    "# 3) New normalized G-matrix is calculated\n",
    "# 4) The volume of this normalized direct cell is calculated. The answer should be 1 and it is.\n",
    "# 5) The new normalized cell is drawn  "
   ]
  },
  {
   "cell_type": "code",
   "execution_count": null,
   "metadata": {},
   "outputs": [],
   "source": [
    "scale_to_normal = np.power(volume,1/3)\n",
    "print(scale_to_normal)\n"
   ]
  },
  {
   "cell_type": "code",
   "execution_count": null,
   "metadata": {},
   "outputs": [],
   "source": [
    "a_normal = a/scale_to_normal\n",
    "b_normal = b/scale_to_normal\n",
    "c_normal = c/scale_to_normal\n",
    "print(a_normal)\n"
   ]
  },
  {
   "cell_type": "code",
   "execution_count": null,
   "metadata": {},
   "outputs": [],
   "source": [
    "G_matrix_normal = calculate_G_matrix(a_normal,b_normal,c_normal,alpha,beta,gamma)\n",
    "print(G_matrix_normal)"
   ]
  },
  {
   "cell_type": "code",
   "execution_count": null,
   "metadata": {},
   "outputs": [],
   "source": [
    "volume_normal = calculate_volume(G_matrix_normal)\n",
    "print(f\"Should be 1 and is {volume_normal: 8.3f}\")"
   ]
  },
  {
   "cell_type": "code",
   "execution_count": null,
   "metadata": {},
   "outputs": [],
   "source": [
    "normal_conversion_to_cartesian = calculate_conversion_to_cartesian(a_normal,b_normal,c_normal,alpha,beta,gamma)\n",
    "print(normal_conversion_to_cartesian)"
   ]
  },
  {
   "cell_type": "code",
   "execution_count": null,
   "metadata": {},
   "outputs": [],
   "source": [
    "# To Student: \n",
    "# Normalize Reciprocal Cell\n",
    "# 1) Calculate G_star normal\n",
    "# 2) Check that volume is 1"
   ]
  },
  {
   "cell_type": "code",
   "execution_count": null,
   "metadata": {},
   "outputs": [],
   "source": [
    "G_star_normal = np.linalg.inv(G_matrix_normal)\n",
    "print(G_matrix_normal)\n",
    "print(G_star_normal)\n",
    "volume_normal = calculate_volume(G_matrix_normal)\n",
    "print(f\"Normal volume should be 1 and is {volume_normal: 8.3f}\")\n",
    "volume_star_normal = calculate_volume(G_star_normal)\n",
    "print(f\"Normal star volume should be 1 and is {volume_star_normal: 8.3f}\")"
   ]
  },
  {
   "cell_type": "code",
   "execution_count": null,
   "metadata": {},
   "outputs": [],
   "source": [
    "a_star_normal = np.dot(G_star_normal,np.array([1,0,0]))\n",
    "b_star_normal = np.dot(G_star_normal,np.array([0,1,0]))\n",
    "c_star_normal = np.dot(G_star_normal,np.array([0,0,1]))\n",
    "print(a_star_normal, b_star_normal, c_star_normal)\n",
    "star_normal = np.array([a_star_normal.T , b_star_normal.T, c_star_normal.T])\n",
    "\n",
    "print(star_normal)"
   ]
  },
  {
   "cell_type": "code",
   "execution_count": null,
   "metadata": {},
   "outputs": [],
   "source": [
    "normal_conversion_to_cartesian = calculate_conversion_to_cartesian(a_normal,b_normal,c_normal,alpha,beta,gamma)\n",
    "print(normal_conversion_to_cartesian)"
   ]
  },
  {
   "cell_type": "code",
   "execution_count": null,
   "metadata": {},
   "outputs": [],
   "source": [
    "outline_normal_cartesian = np.dot(normal_conversion_to_cartesian, outline)\n",
    "outline_red_cartesian = np.dot(normal_conversion_to_cartesian, outline_red)\n",
    "outline_green_cartesian = np.dot(normal_conversion_to_cartesian, outline_green)\n",
    "outline_blue_cartesian = np.dot(normal_conversion_to_cartesian, outline_blue)\n",
    "\n",
    "# This completes the scaled direct cell\n",
    "\n",
    "\n",
    "outline_star_normal_cartesian = np.linalg.multi_dot([normal_conversion_to_cartesian,star_normal, outline])\n",
    "outline_red_star_normal_cartesian = np.linalg.multi_dot([normal_conversion_to_cartesian,star_normal, outline_red])\n",
    "outline_green_star_normal_cartesian = np.linalg.multi_dot([normal_conversion_to_cartesian,star_normal, outline_green])\n",
    "outline_blue_star_normal_cartesian = np.linalg.multi_dot([normal_conversion_to_cartesian,star_normal, outline_blue])\n",
    "\n",
    "# This completes the scaled reciprocal cell\n",
    "\n",
    "ax = create_default_plot()\n",
    "\n",
    "zoom = 2 # Zoom allows control of size of figure\n",
    "ax.set_xlim(0,zoom)\n",
    "ax.set_ylim(0,zoom)\n",
    "ax.set_zlim(0,zoom)\n",
    "draw_unit_cell(ax, outline_normal_cartesian, outline_red_cartesian, outline_green_cartesian, outline_blue_cartesian,'k')\n",
    "draw_unit_cell(ax, outline_star_normal_cartesian, outline_red_star_normal_cartesian, outline_green_star_normal_cartesian, outline_blue_star_normal_cartesian,'c')"
   ]
  },
  {
   "cell_type": "code",
   "execution_count": null,
   "metadata": {},
   "outputs": [],
   "source": [
    "# Reference: https://thispointer.com/python-nusmpy-select-rows-columns-by-index-from-a-2d-ndarray-multi-dimension/\n",
    "\n",
    "a_star_squared = G_star[0][0]\n",
    "a_star = np.sqrt(a_star_squared)\n",
    "b_star_squared = G_star[1][1]\n",
    "b_star = np.sqrt(b_star_squared)\n",
    "c_star_squared = G_star[2][2]\n",
    "c_star = np.sqrt(c_star_squared)\n",
    "\n",
    "# Calculate alpha*\n",
    "b_star_c_star_cos_alpha_star= G_star[1][2]\n",
    "bc_star = b_star*c_star\n",
    "cos_alpha_star = [b_star_c_star_cos_alpha_star /bc_star]\n",
    "alpha_star_radians = np.arccos(cos_alpha_star)\n",
    "alpha_star = np.rad2deg(alpha_star_radians)\n",
    "\n",
    "# Calculate beta*\n",
    "a_star_c_star_cos_beta_star = G_star[0][2]\n",
    "#print(G_star[0][2])\n",
    "ac_star = a_star*c_star\n",
    "cos_beta_star = [a_star_c_star_cos_beta_star /ac_star]\n",
    "beta_star_radians = np.arccos(cos_beta_star)\n",
    "beta_star = np.rad2deg(beta_star_radians)\n",
    "\n",
    "# Calculate gamma*\n",
    "a_star_b_star_cos_gamma_star= G_star[0][1]\n",
    "ab_star = a_star*b_star\n",
    "cos_gamma_star = [a_star_b_star_cos_gamma_star /ab_star]\n",
    "gamma_star_radians = np.arccos(cos_gamma_star)\n",
    "gamma_star = np.rad2deg(gamma_star_radians)\n",
    "\n",
    "#https://docs.scipy.org/doc/numpy/reference/generated/numpy.linalg.multi_dot.html\n",
    "# =multiply_dot([A,B,C,d]) very useful\n",
    "# calculate d spacing for hkl plane\n",
    "\n",
    "H2hkl = multi_dot([H,G_star,H.transpose()])\n",
    "Hhkl = np.sqrt(H2hkl)\n",
    "dhkl = 1/Hhkl\n",
    "dhkl1 =dhkl [0][0] \n",
    "\n",
    "#Print direct cell parameters\n",
    "print(f\"a     = {a: 8.3f} Å\")\n",
    "print(f\"b     = {b: 8.3f} Å\")\n",
    "print(f\"c     = {c: 8.3f} Å\")\n",
    "print(f\"alpha = {alpha: 8.3f} degrees\")\n",
    "print(f\"beta  = {beta: 8.3f} degrees\")\n",
    "print(f\"gamma = {gamma: 8.3f} degrees\")\n",
    "\n",
    "#Print reciprocal cell parameters\n",
    "print(f\"a* = {a_star: .4E} Å inverse\")\n",
    "print(f\"b* = {b_star: .4E} Å inverse\")\n",
    "print(f\"c* = {c_star: .4E} Å inverse\")\n",
    "print(f\"alpha* = {alpha_star} degrees\")\n",
    "print(f\"beta* = {beta_star} degrees\")\n",
    "print(f\"gamma* = {gamma_star} degrees\")\n",
    "print(f\" \")\n",
    "print(f\"G matrix in Å squared units is \")\n",
    "print(G_matrix)\n",
    "print(f\" \")\n",
    "print(f\"G star matrix in Å inverse squared units  is \")\n",
    "print(G_star)\n",
    "print(f\" \")\n",
    "print(f\"Volume of direct cell is     {volume: 8.3f} Å cubed\")\n",
    "print(f\" \") \n",
    "print(f\"Volume of reciprocal cell is {volume_star: .4E} Å inverse cubed\")\n",
    "\n",
    "# Print d-spacing for hkl plane\n",
    "print(f\"d_spacing is  d{h}{k}{l}    = {dhkl1: 8.3f} Å\")"
   ]
  }
 ],
 "metadata": {
  "kernelspec": {
   "display_name": "Python 3 (ipykernel)",
   "language": "python",
   "name": "python3"
  },
  "language_info": {
   "codemirror_mode": {
    "name": "ipython",
    "version": 3
   },
   "file_extension": ".py",
   "mimetype": "text/x-python",
   "name": "python",
   "nbconvert_exporter": "python",
   "pygments_lexer": "ipython3",
   "version": "3.9.12"
  }
 },
 "nbformat": 4,
 "nbformat_minor": 2
}
