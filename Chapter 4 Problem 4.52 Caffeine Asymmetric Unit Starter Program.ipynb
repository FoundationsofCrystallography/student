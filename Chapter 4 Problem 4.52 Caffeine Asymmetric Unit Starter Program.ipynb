{
 "cells": [
  {
   "cell_type": "markdown",
   "metadata": {},
   "source": [
    "## Chapter 4 Problem 4.52: Starter Program\n",
    "### Caffeine Asymmetric Unit: Space Group $P2_{1}/c$ \n",
    "\n",
    "#### From: M. Julian, [*Foundations of Crystallography with Computer Applications Third Edition*](https://www.crcpress.com/Foundations-of-Crystallography-with-Computer-Applications/Julian/p/book/9781466552913). CRC Press, Taylor & Francis, Boca Raton\n",
    "\n",
    "#### References\n",
    " - See *Chapter 1 Problem 1.09 Starter Program* for installation of Python, Jupyter, Numpy, and Matplotlib\n",
    " - Data Source: Cambridge Structure Database: cafine01"
   ]
  },
  {
   "cell_type": "code",
   "execution_count": null,
   "metadata": {},
   "outputs": [],
   "source": [
    "import numpy as np \n",
    "import matplotlib.pyplot as plt  \n",
    "from mpl_toolkits.mplot3d import axis3d\n",
    "np.set_printoptions(precision=4, suppress=True) # suppress means numbers close to zero printed as zero\n",
    "%matplotlib notebook"
   ]
  },
  {
   "cell_type": "code",
   "execution_count": null,
   "metadata": {},
   "outputs": [],
   "source": [
    "# Student enter in your own a, b, c, alpha, beta, gamma\n",
    "\n",
    "# Lattice information for the unit cell\n",
    "a = 3.974               # Crystallographic a axis (Å, angstroms)\n",
    "b = 16.751              # Crystallographic b axis (Å, angstroms)\n",
    "c = 14.800              # Crystallographic c axis (Å, angstroms)\n",
    "alpha = 90              # Angle between b and c  (degrees)\n",
    "beta = 95.80            # Angle between a and c  (degrees)\n",
    "gamma = 90              # Angle between a and b  (degrees)\n",
    "\n",
    "# f\"a string {variable}\" prints formatted text with variables inside curly braces {}\n",
    "# : 8.3f  space means left padded with space, 8 characters total width (including .), 3 decimals after periods\n",
    "print(f\"a     = {a: 8.3f} Å\")\n",
    "print(f\"b     = {b: 8.3f} Å\")\n",
    "print(f\"c     = {c: 8.3f} Å\")\n",
    "print(f\"alpha = {alpha: 8.3f} degrees\")\n",
    "print(f\"beta  = {beta: 8.3f} degrees\")\n",
    "print(f\"gamma = {gamma: 8.3f} degrees\")\n",
    "  "
   ]
  },
  {
   "cell_type": "code",
   "execution_count": null,
   "metadata": {},
   "outputs": [],
   "source": [
    "def sind(angle_degrees):\n",
    "    \"\"\"sine in degrees\"\"\"  #python \"\"\" string to document functions\n",
    "    angle_radians = np.deg2rad(angle_degrees)\n",
    "    return np.sin(angle_radians)\n",
    "\n",
    "def cosd(angle_degrees):\n",
    "    \"\"\"cosine in degrees\"\"\"\n",
    "    angle_radians = np.deg2rad(angle_degrees)\n",
    "    return np.cos(angle_radians)\n",
    "\n",
    "def initial_axis():\n",
    "    \"\"\"prints the unit cell with a axis red, b axis green, c axis blue\"\"\"\n",
    "    fig = plt.figure()\n",
    "    ax = fig.add_subplot(111, projection='3d')\n",
    "    \n",
    "    # makes sure that projection is not perspective, but orthogonal\n",
    "    ax.set_proj_type('ortho')\n",
    "    \n",
    "    # defines the aspect of the axes in figure space to be equal\n",
    "    ax.set_box_aspect(aspect = (1,1,1))\n",
    "    \n",
    "    # comment to add grid lines\n",
    "    ax.axis('off')\n",
    "    \n",
    "    ax.plot(outline_cartesian[0], outline_cartesian[1], outline_cartesian[2],'k',linewidth=.5)    # plots black outline of cell\n",
    "    ax.plot(outline_AU_cartesian[0], outline_AU_cartesian[1], outline_AU_cartesian[2],'r',linewidth=.5)    # plots black outline of cell\n",
    "    ax.plot(outline_red_cartesian[0], outline_red_cartesian[1],outline_red_cartesian[2],'r',linewidth=3)  #plots a axis red\n",
    "    ax.plot(outline_green_cartesian[0], outline_green_cartesian[1],outline_green_cartesian[2],'g',linewidth=3)  #plots b axis green\n",
    "    ax.plot(outline_blue_cartesian[0], outline_blue_cartesian[1], outline_blue_cartesian[2], 'b', linewidth=3)  #plots c axis blue\n",
    "    return ax"
   ]
  },
  {
   "cell_type": "code",
   "execution_count": null,
   "metadata": {},
   "outputs": [],
   "source": [
    "# Create conversion to cartesian matrix from crystallographic parameters a, b, c and angles alpha, beta, gamma\n",
    "c1 = c * cosd(beta)\n",
    "c2 = (c * cosd(alpha) - cosd(gamma) * cosd(beta)) / sind(gamma)\n",
    "c3 = np.sqrt(abs(c ** 2 - c1 ** 2 - c2 ** 2))\n",
    "\n",
    "\n",
    "conversion_to_cartesian = np.array([\n",
    "       [a, b*cosd(gamma), c1],\n",
    "       [0, b*sind(gamma), c2],\n",
    "       [0, 0,             c3]\n",
    "    ])\n",
    "\n",
    "#print(conversion_to_cartesian)"
   ]
  },
  {
   "cell_type": "code",
   "execution_count": null,
   "metadata": {},
   "outputs": [],
   "source": [
    "# 3 dimensional outline represented by a 3 * 16 matrix\n",
    "outline = np.array(\n",
    "    [\n",
    "        [0,  0,  1, 1, 0, 0, 0,   0,  1,  1,  0, 0, 1,  1, 1, 1],\n",
    "        [0,  0,  0, 0, 0, 1, 1,   0,  0,  1,  1, 1, 1,  1, 1, 0],\n",
    "        [0,   1, 1 , 0, 0, 0, 1,   1,  1,  1,  1, 0, 0,  1, 0, 0]\n",
    "    ]\n",
    ")\n",
    "\n",
    "outline_cartesian = np.dot(conversion_to_cartesian, outline)\n",
    "\n",
    "# Color a axis red\n",
    "outline_red = np.array(\n",
    "    [\n",
    "        [ 0, 1], # note comma between lists [], []\n",
    "        [ 0, 0],\n",
    "        [ 0, 0]\n",
    "    ]\n",
    ")\n",
    "\n",
    "outline_red_cartesian = np.dot(conversion_to_cartesian, outline_red)\n",
    "\n",
    "# Color b axis green\n",
    "outline_green = np.array(\n",
    "    [\n",
    "        [ 0, 0], # note comma between lists [], []\n",
    "        [ 0, 1],\n",
    "        [ 0, 0]\n",
    "    ]\n",
    ")\n",
    "outline_green_cartesian = np.dot(conversion_to_cartesian, outline_green)\n",
    "\n",
    "# Color c axis blue\n",
    "outline_blue = np.array(\n",
    "    [\n",
    "        [ 0, 0], # note comma between lists [], []\n",
    "        [ 0, 0],\n",
    "        [ 0, 1]\n",
    "    ]\n",
    ")\n",
    "\n",
    "outline_blue_cartesian = np.dot(conversion_to_cartesian, outline_blue)\n",
    "print(outline_blue_cartesian)"
   ]
  },
  {
   "cell_type": "code",
   "execution_count": null,
   "metadata": {},
   "outputs": [],
   "source": [
    "# 3 dimensional outline represented by a 3 * 16 matrix\n",
    "outline_AU= np.array(\n",
    "    [\n",
    "        [0,  0,  1, 1, 0, 0,  0,  0,  1,  1,  0, 0, 1,  1, 1, 1],\n",
    "        [0,  0,  0, 0, 0, 1,  1,  0,  0,  1,  1, 1, 1,  1, 1, 0],\n",
    "        [0, .5, .5, 0, 0, 0, .5, .5, .5, .5, .5, 0, 0, .5, 0, 0]\n",
    "    ]\n",
    ")\n",
    "\n",
    "outline_AU_cartesian = np.dot(conversion_to_cartesian, outline_AU)\n"
   ]
  },
  {
   "cell_type": "code",
   "execution_count": null,
   "metadata": {},
   "outputs": [],
   "source": [
    "# Print box\n",
    "ax = initial_axis() # Creates unit cell with a axis red, b axis green, c axis blue\n",
    "\n",
    "# Set x, y and z axis to have the same range\n",
    "#  the range needs to be bigger than the longest unit cell length\n",
    "\n",
    "ax.set_xlim(-5,15)\n",
    "ax.set_ylim(-5,15)\n",
    "ax.set_zlim(-5,15)\n",
    "\n",
    "\n",
    "# This should be the last statement before the graph\n",
    "plt.show()"
   ]
  },
  {
   "cell_type": "code",
   "execution_count": null,
   "metadata": {},
   "outputs": [],
   "source": [
    "# 3 dimensional outline represented by a 3 * 16 matrix\n",
    "outline_AU= np.array(\n",
    "    [\n",
    "        [0,  0,  1, 1, 0, 0,  0,  0,  1,  1,  0, 0, 1,  1, 1, 1],\n",
    "        [0,  0,  0, 0, 0, 1,  1,  0,  0,  1,  1, 1, 1,  1, 1, 0],\n",
    "        [0, .5, .5, 0, 0, 0, .5, .5, .5, .5, .5, 0, 0, .5, 0, 0]\n",
    "    ]\n",
    ")\n",
    "\n",
    "outline_AU_cartesian = np.dot(conversion_to_cartesian, outline_AU)\n",
    "\n"
   ]
  },
  {
   "cell_type": "markdown",
   "metadata": {},
   "source": [
    "###### "
   ]
  }
 ],
 "metadata": {
  "kernelspec": {
   "display_name": "Python 3 (ipykernel)",
   "language": "python",
   "name": "python3"
  },
  "language_info": {
   "codemirror_mode": {
    "name": "ipython",
    "version": 3
   },
   "file_extension": ".py",
   "mimetype": "text/x-python",
   "name": "python",
   "nbconvert_exporter": "python",
   "pygments_lexer": "ipython3",
   "version": "3.9.12"
  }
 },
 "nbformat": 4,
 "nbformat_minor": 2
}
